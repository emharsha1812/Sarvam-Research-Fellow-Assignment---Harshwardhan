{
 "cells": [
  {
   "cell_type": "code",
   "execution_count": 1,
   "metadata": {},
   "outputs": [
    {
     "name": "stdout",
     "output_type": "stream",
     "text": [
      "Module imported successfully!\n"
     ]
    }
   ],
   "source": [
    "import numpy as np\n",
    "from my_einops import rearrange # Use the filename you saved\n",
    "\n",
    "print(\"Module imported successfully!\")\n"
   ]
  },
  {
   "cell_type": "code",
   "execution_count": 2,
   "metadata": {},
   "outputs": [
    {
     "name": "stdout",
     "output_type": "stream",
     "text": [
      "Original shape: (3, 4)\n",
      "Rearranged shape: (4, 3)\n",
      "Rearranged tensor:\n",
      " [[ 0  4  8]\n",
      " [ 1  5  9]\n",
      " [ 2  6 10]\n",
      " [ 3  7 11]]\n"
     ]
    }
   ],
   "source": [
    "# Example usage\n",
    "my_tensor = np.arange(12).reshape(3, 4)\n",
    "print(\"Original shape:\", my_tensor.shape)\n",
    "\n",
    "# Call your implemented rearrange function\n",
    "rearranged_tensor = rearrange(my_tensor, 'h w -> w h')\n",
    "\n",
    "print(\"Rearranged shape:\", rearranged_tensor.shape)\n",
    "print(\"Rearranged tensor:\\n\", rearranged_tensor)"
   ]
  },
  {
   "cell_type": "code",
   "execution_count": 3,
   "metadata": {},
   "outputs": [
    {
     "data": {
      "image/png": "[encoded data removed]",
      "text/plain": []
     },
     "execution_count": 3,
     "metadata": {},
     "output_type": "execute_result"
    }
   ],
   "source": [
    "import numpy as np\n",
    "from PIL.Image import fromarray\n",
    "from IPython import get_ipython\n",
    "\n",
    "def display_np_arrays_as_images():\n",
    "    def np_to_png(a):\n",
    "        if 2 <= len(a.shape) <= 3:\n",
    "            return fromarray(np.array(np.clip(a, 0, 1) * 255, dtype=\"uint8\"))._repr_png_()\n",
    "        else:\n",
    "            return fromarray(np.zeros([1, 1], dtype=\"uint8\"))._repr_png_()\n",
    "\n",
    "    def np_to_text(obj, p, cycle):\n",
    "        if len(obj.shape) < 2:\n",
    "            print(repr(obj))\n",
    "        if 2 <= len(obj.shape) <= 3:\n",
    "            pass\n",
    "        else:\n",
    "            print(\"<array of shape {}>\".format(obj.shape))\n",
    "\n",
    "    ip = get_ipython()\n",
    "    ip.display_formatter.formatters[\"image/png\"].for_type(np.ndarray, np_to_png)\n",
    "    ip.display_formatter.formatters[\"text/plain\"].for_type(np.ndarray, np_to_text)\n",
    "    \n",
    "# Register the custom display formatters\n",
    "ims = np.load(\"sarvam.npy\", allow_pickle=False)\n",
    "display_np_arrays_as_images()\n",
    "\n",
    "# Now, displaying an image (e.g., the first image) in a Jupyter cell:\n",
    "ims[0]\n"
   ]
  },
  {
   "cell_type": "code",
   "execution_count": 4,
   "metadata": {},
   "outputs": [
    {
     "data": {
      "image/png": "[encoded data removed]",
      "text/plain": []
     },
     "execution_count": 4,
     "metadata": {},
     "output_type": "execute_result"
    }
   ],
   "source": [
    "ims[0]"
   ]
  },
  {
   "cell_type": "code",
   "execution_count": 5,
   "metadata": {},
   "outputs": [
    {
     "data": {
      "image/png": "[encoded data removed]",
      "text/plain": []
     },
     "execution_count": 5,
     "metadata": {},
     "output_type": "execute_result"
    }
   ],
   "source": [
    "from my_einops import rearrange\n",
    "## Functionality One - Transposing the first two axes\n",
    "rearrange(ims[0],\"h w c -> w h c\") "
   ]
  },
  {
   "cell_type": "code",
   "execution_count": 6,
   "metadata": {},
   "outputs": [
    {
     "data": {
      "image/png": "[encoded data removed]",
      "text/plain": []
     },
     "execution_count": 6,
     "metadata": {},
     "output_type": "execute_result"
    }
   ],
   "source": [
    "rearrange(ims[3], \"height width color -> width height color\")"
   ]
  },
  {
   "cell_type": "code",
   "execution_count": 7,
   "metadata": {},
   "outputs": [
    {
     "data": {
      "image/png": "[encoded data removed]",
      "text/plain": []
     },
     "execution_count": 7,
     "metadata": {},
     "output_type": "execute_result"
    }
   ],
   "source": [
    "rearrange(ims, \"b h w c -> (b h) w c\")"
   ]
  },
  {
   "cell_type": "code",
   "execution_count": 8,
   "metadata": {},
   "outputs": [
    {
     "data": {
      "image/png": "[encoded data removed]",
      "text/plain": []
     },
     "execution_count": 8,
     "metadata": {},
     "output_type": "execute_result"
    }
   ],
   "source": [
    "# or compose a new dimension of batch and width\n",
    "rearrange(ims, \"b h w c -> h (b w) c\")"
   ]
  },
  {
   "cell_type": "code",
   "execution_count": 9,
   "metadata": {},
   "outputs": [
    {
     "data": {
      "text/plain": [
       "(48, 288, 3)"
      ]
     },
     "execution_count": 9,
     "metadata": {},
     "output_type": "execute_result"
    }
   ],
   "source": [
    "# resulting dimensions are computed very simply\n",
    "# length of newly composed axis is a product of components\n",
    "# [6, 96, 96, 3] -> [96, (6 * 96), 3]\n",
    "rearrange(ims, \"b h w c -> h (b w) c\").shape"
   ]
  },
  {
   "cell_type": "code",
   "execution_count": 10,
   "metadata": {},
   "outputs": [
    {
     "data": {
      "text/plain": [
       "(41472,)"
      ]
     },
     "execution_count": 10,
     "metadata": {},
     "output_type": "execute_result"
    }
   ],
   "source": [
    "# we can compose more than two axes.\n",
    "# let's flatten 4d array into 1d, resulting array has as many elements as the original\n",
    "rearrange(ims, \"b h w c -> (b h w c)\").shape"
   ]
  },
  {
   "cell_type": "code",
   "execution_count": 11,
   "metadata": {},
   "outputs": [
    {
     "data": {
      "image/png": "[encoded data removed]",
      "text/plain": []
     },
     "execution_count": 11,
     "metadata": {},
     "output_type": "execute_result"
    }
   ],
   "source": [
    "# finally, combine composition and decomposition:\n",
    "rearrange(ims, \"(b1 b2) h w c -> (b1 h) (b2 w) c \", b1=2)"
   ]
  },
  {
   "cell_type": "code",
   "execution_count": 12,
   "metadata": {},
   "outputs": [
    {
     "data": {
      "image/png": "[encoded data removed]",
      "text/plain": []
     },
     "execution_count": 12,
     "metadata": {},
     "output_type": "execute_result"
    }
   ],
   "source": [
    "# slightly different composition: b1 is merged with width, b2 with height\n",
    "# ... so letters are ordered by w then by h\n",
    "rearrange(ims, \"(b1 b2) h w c -> (b2 h) (b1 w) c \", b1=2)"
   ]
  },
  {
   "cell_type": "code",
   "execution_count": 13,
   "metadata": {},
   "outputs": [
    {
     "data": {
      "image/png": "[encoded data removed]",
      "text/plain": []
     },
     "execution_count": 13,
     "metadata": {},
     "output_type": "execute_result"
    }
   ],
   "source": [
    "# move part of width dimension to height.\n",
    "# we should call this width-to-height as image width shrunk by 2 and height doubled.\n",
    "# but all pixels are the same!\n",
    "# Can you write reverse operation (height-to-width)?\n",
    "rearrange(ims, \"b h (w w2) c -> (h w2) (b w) c\", w2=2)"
   ]
  },
  {
   "cell_type": "code",
   "execution_count": 14,
   "metadata": {},
   "outputs": [
    {
     "data": {
      "image/png": "[encoded data removed]",
      "text/plain": []
     },
     "execution_count": 14,
     "metadata": {},
     "output_type": "execute_result"
    }
   ],
   "source": [
    "# compare with the next example\n",
    "rearrange(ims, \"b h w c -> h (b w) c\")"
   ]
  },
  {
   "cell_type": "code",
   "execution_count": 15,
   "metadata": {},
   "outputs": [
    {
     "data": {
      "image/png": "[encoded data removed]",
      "text/plain": []
     },
     "execution_count": 15,
     "metadata": {},
     "output_type": "execute_result"
    }
   ],
   "source": [
    "# order of axes in composition is different\n",
    "# rule is just as for digits in the number: leftmost digit is the most significant,\n",
    "# while neighboring numbers differ in the rightmost axis.\n",
    "\n",
    "# you can also think of this as lexicographic sort\n",
    "rearrange(ims, \"b h w c -> h (w b) c\")"
   ]
  },
  {
   "cell_type": "code",
   "execution_count": 16,
   "metadata": {},
   "outputs": [
    {
     "data": {
      "image/png": "[encoded data removed]",
      "text/plain": []
     },
     "execution_count": 16,
     "metadata": {},
     "output_type": "execute_result"
    }
   ],
   "source": [
    "# what if b1 and b2 are reordered before composing to width?\n",
    "rearrange(ims, \"(b1 b2) h w c -> h (b1 b2 w) c \", b1=2)  # produces 'einops'\n",
    "rearrange(ims, \"(b1 b2) h w c -> h (b2 b1 w) c \", b1=2)  # produces 'eoipns'"
   ]
  },
  {
   "cell_type": "code",
   "execution_count": 17,
   "metadata": {},
   "outputs": [
    {
     "data": {
      "image/png": "[encoded data removed]",
      "text/plain": []
     },
     "execution_count": 17,
     "metadata": {},
     "output_type": "execute_result"
    }
   ],
   "source": [
    "# interweaving pixels of different pictures\n",
    "# all letters are observable\n",
    "rearrange(ims, \"(b1 b2) h w c -> (h b1) (w b2) c \", b1=2)"
   ]
  },
  {
   "cell_type": "code",
   "execution_count": 18,
   "metadata": {},
   "outputs": [
    {
     "data": {
      "image/png": "[encoded data removed]",
      "text/plain": []
     },
     "execution_count": 18,
     "metadata": {},
     "output_type": "execute_result"
    }
   ],
   "source": [
    "# interweaving along vertical for couples of images\n",
    "rearrange(ims, \"(b1 b2) h w c -> (h b1) (b2 w) c\", b1=2)"
   ]
  },
  {
   "cell_type": "code",
   "execution_count": 19,
   "metadata": {},
   "outputs": [
    {
     "data": {
      "image/png": "[encoded data removed]",
      "text/plain": []
     },
     "execution_count": 19,
     "metadata": {},
     "output_type": "execute_result"
    }
   ],
   "source": [
    "# split in small patches and transpose each patch\n",
    "rearrange(ims, \"b (h1 h2) (w1 w2) c -> (h1 w2) (b w1 h2) c\", h2=8, w2=8)"
   ]
  },
  {
   "cell_type": "code",
   "execution_count": 20,
   "metadata": {},
   "outputs": [
    {
     "data": {
      "image/png": "[encoded data removed]",
      "text/plain": []
     },
     "execution_count": 20,
     "metadata": {},
     "output_type": "execute_result"
    }
   ],
   "source": [
    "# stop me someone!\n",
    "rearrange(ims, \"b (h1 h2 h3) (w1 w2 w3) c -> (h1 w2 h3) (b w1 h2 w3) c\", h2=2, w2=2, w3=2, h3=2)"
   ]
  },
  {
   "cell_type": "code",
   "execution_count": 21,
   "metadata": {},
   "outputs": [
    {
     "data": {
      "image/png": "[encoded data removed]",
      "text/plain": []
     },
     "execution_count": 21,
     "metadata": {},
     "output_type": "execute_result"
    }
   ],
   "source": [
    "rearrange(ims, \"(b1 b2) (h1 h2) (w1 w2) c -> (h1 b1 h2) (w1 b2 w2) c\", h1=3, w1=3, b2=3)"
   ]
  },
  {
   "cell_type": "code",
   "execution_count": 22,
   "metadata": {},
   "outputs": [
    {
     "data": {
      "image/png": "[encoded data removed]",
      "text/plain": []
     },
     "execution_count": 22,
     "metadata": {},
     "output_type": "execute_result"
    }
   ],
   "source": [
    "rearrange(ims, \"b h w c -> w (b h) c\")"
   ]
  },
  {
   "cell_type": "code",
   "execution_count": 23,
   "metadata": {},
   "outputs": [
    {
     "name": "stdout",
     "output_type": "stream",
     "text": [
      "[[0.13241536 0.89213923 0.68571142]\n",
      " [0.2337037  0.14279243 0.9284573 ]\n",
      " [0.61156203 0.46747325 0.79544659]\n",
      " [0.91299048 0.10079368 0.96504505]]\n"
     ]
    }
   ],
   "source": [
    "x = np.random.rand(3, 4)\n",
    "result = rearrange(x, 'h w -> w h')\n",
    "print(result)"
   ]
  },
  {
   "cell_type": "code",
   "execution_count": 24,
   "metadata": {},
   "outputs": [
    {
     "name": "stdout",
     "output_type": "stream",
     "text": [
      "[[[0.1842499  0.11415327 0.93943573 0.86196486 0.72531685 0.70437742\n",
      "   0.22086669 0.82569253 0.23590978 0.87621279]\n",
      "  [0.48761367 0.74544847 0.64324807 0.77166987 0.49935323 0.34869212\n",
      "   0.55923041 0.9987596  0.90958237 0.14989943]\n",
      "  [0.68463192 0.34142178 0.90521199 0.17582761 0.08283767 0.58797426\n",
      "   0.98825101 0.16012251 0.55129145 0.67420879]\n",
      "  [0.36527218 0.89953999 0.33763768 0.7324933  0.6619461  0.96889727\n",
      "   0.73999788 0.76565163 0.44173585 0.27706568]]\n",
      "\n",
      " [[0.04784287 0.5150579  0.02080107 0.15292155 0.37394667 0.21457968\n",
      "   0.07949159 0.14677045 0.12710075 0.65964911]\n",
      "  [0.04802899 0.44154921 0.79617883 0.23447888 0.49258927 0.95969155\n",
      "   0.63972687 0.48413715 0.63710013 0.53195658]\n",
      "  [0.70794356 0.42105265 0.62565281 0.13795955 0.06133728 0.91083628\n",
      "   0.98606215 0.04350723 0.12361933 0.2722939 ]\n",
      "  [0.97895308 0.35657098 0.90728561 0.18629311 0.70856965 0.83512426\n",
      "   0.2318108  0.19787645 0.86143237 0.23336517]]\n",
      "\n",
      " [[0.91187995 0.38137035 0.82062507 0.02341501 0.50870448 0.89085153\n",
      "   0.6100924  0.28472429 0.42152067 0.0835609 ]\n",
      "  [0.0690686  0.74850128 0.49521381 0.00611153 0.95399299 0.84627412\n",
      "   0.64367299 0.40509212 0.2992968  0.15857958]\n",
      "  [0.89949416 0.93387266 0.75085093 0.05711136 0.73018559 0.35024494\n",
      "   0.35004621 0.3214187  0.75103682 0.04475509]\n",
      "  [0.00830529 0.00483488 0.89047955 0.74299242 0.85122427 0.00101622\n",
      "   0.38676886 0.80660747 0.63326683 0.03343309]]]\n"
     ]
    }
   ],
   "source": [
    "x = np.random.rand(12, 10)\n",
    "result = rearrange(x, '(h w) c -> h w c', h=3)\n",
    "print(result)"
   ]
  },
  {
   "cell_type": "code",
   "execution_count": 25,
   "metadata": {},
   "outputs": [
    {
     "name": "stdout",
     "output_type": "stream",
     "text": [
      "[[0.79220098 0.36238549 0.91574426 0.62032128 0.4023016 ]\n",
      " [0.60139149 0.82806136 0.1816141  0.59408071 0.7341635 ]\n",
      " [0.28572438 0.1437199  0.59362169 0.03655681 0.08842872]\n",
      " [0.57855757 0.40091644 0.45329009 0.53388518 0.85284623]\n",
      " [0.62772809 0.32350194 0.99852318 0.52706023 0.14000805]\n",
      " [0.92835213 0.00815023 0.59411946 0.56252862 0.00888995]\n",
      " [0.40683511 0.38113498 0.26863427 0.52313042 0.57596154]\n",
      " [0.61837849 0.03983843 0.31399072 0.92793654 0.28533533]\n",
      " [0.48673696 0.95078148 0.42916553 0.66011249 0.69717685]\n",
      " [0.19548384 0.83978698 0.16728088 0.01416416 0.07969384]\n",
      " [0.63393941 0.39635066 0.89121374 0.75908211 0.38892673]\n",
      " [0.66583295 0.98529097 0.60033537 0.86801635 0.80211223]]\n"
     ]
    }
   ],
   "source": [
    "x = np.random.rand(3, 4, 5)\n",
    "result = rearrange(x, 'a b c -> (a b) c')\n",
    "print(result)"
   ]
  },
  {
   "cell_type": "code",
   "execution_count": 26,
   "metadata": {},
   "outputs": [
    {
     "name": "stdout",
     "output_type": "stream",
     "text": [
      "[[[0.6527275  0.80127118 0.24381931 0.73529146 0.56050726 0.96668472\n",
      "   0.29273764 0.55977398 0.53768472 0.40212151 0.34732881 0.89845343\n",
      "   0.90947138 0.86531087 0.1661077  0.97567164 0.96844211 0.1090826\n",
      "   0.18633356 0.07500396]\n",
      "  [0.07632721 0.32755081 0.662576   0.2697733  0.24471624 0.78512202\n",
      "   0.75789206 0.90503336 0.02415273 0.92129392 0.62063052 0.50010957\n",
      "   0.50948764 0.73151517 0.72553563 0.04915208 0.58829008 0.58687567\n",
      "   0.76052207 0.02595729]\n",
      "  [0.24725423 0.52738358 0.89151435 0.1320633  0.68421397 0.34857821\n",
      "   0.79296972 0.18172662 0.60654907 0.42027998 0.78536919 0.58567968\n",
      "   0.60163044 0.18398223 0.18065325 0.29342592 0.8372089  0.18631089\n",
      "   0.11270847 0.33211896]]\n",
      "\n",
      " [[0.397371   0.9706066  0.38007447 0.71133471 0.67359986 0.69467139\n",
      "   0.94980938 0.14043637 0.73784962 0.48872719 0.72866105 0.27581936\n",
      "   0.71620726 0.5537888  0.84906711 0.90186188 0.78866377 0.44734492\n",
      "   0.88093126 0.12950085]\n",
      "  [0.00720036 0.29972812 0.23054004 0.22552009 0.4786715  0.75212736\n",
      "   0.42511643 0.59046229 0.29487441 0.04275635 0.45367004 0.13253547\n",
      "   0.16514696 0.25208999 0.81357892 0.6927099  0.05678688 0.20638138\n",
      "   0.17302066 0.04002065]\n",
      "  [0.55915708 0.58952769 0.46217823 0.37534827 0.36830782 0.02076079\n",
      "   0.35892737 0.67714766 0.16605323 0.85780414 0.85645268 0.45138906\n",
      "   0.66266612 0.09480292 0.9017595  0.50745331 0.5580997  0.50919389\n",
      "   0.54292327 0.18118898]]]\n"
     ]
    }
   ],
   "source": [
    "# Handle batch dimensions\n",
    "x = np.random.rand(2, 3, 4, 5)\n",
    "result = rearrange(x, '... h w -> ... (h w)')\n",
    "print(result)"
   ]
  }
 ],
 "metadata": {
  "kernelspec": {
   "display_name": "einops",
   "language": "python",
   "name": "python3"
  },
  "language_info": {
   "codemirror_mode": {
    "name": "ipython",
    "version": 3
   },
   "file_extension": ".py",
   "mimetype": "text/x-python",
   "name": "python",
   "nbconvert_exporter": "python",
   "pygments_lexer": "ipython3",
   "version": "3.10.11"
  }
 },
 "nbformat": 4,
 "nbformat_minor": 2
}
