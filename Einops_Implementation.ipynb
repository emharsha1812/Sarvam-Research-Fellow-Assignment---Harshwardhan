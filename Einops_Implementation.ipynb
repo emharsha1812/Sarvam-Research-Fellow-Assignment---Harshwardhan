{
  "nbformat": 4,
  "nbformat_minor": 0,
  "metadata": {
    "colab": {
      "provenance": []
    },
    "kernelspec": {
      "name": "python3",
      "display_name": "Python 3"
    },
    "language_info": {
      "name": "python"
    }
  },
  "cells": [
    {
      "cell_type": "markdown",
      "source": [
        "### Sarvam LLM Team: Assignment 2\n",
        "#### Author : Harshwardhan Fartale\n",
        "#### Github Repository - https://github.com/emharsha1812/Sarvam-Research-Fellow-Assignment---Harshwardhan\n",
        "\n",
        "The subsequent cell contains an implementation of Einops, also available as `my_einops.py` in the [GitHub repository](https://github.com/emharsha1812/Sarvam-Research-Fellow-Assignment---Harshwardhan).\n",
        "\n",
        "This content is additionally accessible as a Google Colab notebook, `Einops_Implementation.ipynb`, within the same repository."
      ],
      "metadata": {
        "id": "bNdo9xxVMXji"
      }
    },
    {
      "cell_type": "code",
      "execution_count": null,
      "metadata": {
        "id": "QGCK-aTVUwIv"
      },
      "outputs": [],
      "source": [
        "\"\"\"\n",
        "This module provides a custom implementation of the 'rearrange' operation,\n",
        "inspired by the einops library, designed to work specifically with NumPy arrays.\n",
        "\n",
        "It allows for flexible tensor manipulation using a string-based pattern,\n",
        "supporting operations like reshaping, transposing, splitting, merging and repeating\n",
        "\"\"\"\n",
        "\n",
        "\n",
        "import numpy as np\n",
        "from typing import Dict, List, Tuple, Any, Set, Union\n",
        "import dataclasses\n",
        "import math\n",
        "\n",
        "\n",
        "# --- 1. Custom Exception ---\n",
        "class EinopsError(ValueError):\n",
        "    \"\"\"\n",
        "    Custom exception class for errors encountered during einops-style operations.\n",
        "    Inherits from ValueError for semantic grouping of value-related issues.\n",
        "    \"\"\"\n",
        "    pass\n",
        "\n",
        "# --- 2. Data Structures for Parsed Pattern ---\n",
        "@dataclasses.dataclass\n",
        "class ParsedExpressionData:\n",
        "    \"\"\"\n",
        "    Holds parsed information about one side (LHS or RHS) of the einops pattern.\n",
        "\n",
        "    Attributes:\n",
        "        raw_axes: A list representing the structure of the expression.\n",
        "                  Elements can be axis names (str), numeric literals (str),\n",
        "                  ellipsis ('...'), or lists of strings for compositions.\n",
        "        identifiers: A set of all unique named axes found in this expression.\n",
        "        has_ellipsis: Boolean flag indicating if '...' is present.\n",
        "        has_composition: Boolean flag indicating if axis composition `(...)` is present.\n",
        "        has_anonymous_axes: Boolean flag indicating if numeric literals > 1 are present.\n",
        "        has_trivial_anonymous_axis: Boolean flag indicating if '1' is present.\n",
        "    \"\"\"\n",
        "    raw_axes: List[Union[str, List[str]]]\n",
        "    identifiers: Set[str]\n",
        "    has_ellipsis: bool\n",
        "    has_composition: bool\n",
        "    has_anonymous_axes: bool\n",
        "    has_trivial_anonymous_axis: bool\n",
        "\n",
        "@dataclasses.dataclass\n",
        "class ParsedPattern:\n",
        "    \"\"\"\n",
        "    Represents the fully parsed and validated einops pattern, containing\n",
        "    the execution plan for the rearrangement.\n",
        "    Attributes:\n",
        "        lhs_expression: ParsedExpressionData for the left-hand side.\n",
        "        decomposed_lhs_axes: List of atomic axis names on the LHS after resolving\n",
        "                             compositions and ellipsis.\n",
        "        rhs_expression: ParsedExpressionData for the right-hand side.\n",
        "        decomposed_rhs_axes_final: List of atomic axis names on the RHS, including\n",
        "                                   placeholders for repeats (`_repeat_N`), anonymous\n",
        "                                   axes (`_anon_1_`), and newly named axes.\n",
        "        resolved_axes_lengths: Dictionary mapping all axis names (LHS, RHS-new,\n",
        "                               ellipsis, inferred) to their integer lengths.\n",
        "        repeat_axes_info: Dictionary mapping axes designated for repetition (numeric\n",
        "                          literals like '3' or new named axes like 'b') to their\n",
        "                          target repeat length. Keys might be '_repeat_N' or 'b'.\n",
        "        needs_reshaping_input: Flag if LHS involves composition or '1'.\n",
        "        needs_repeating: Flag if RHS involves numeric literals > 1 or new named axes.\n",
        "        needs_transposing: Flag if the order of existing axes changes from LHS to RHS.\n",
        "        needs_reshaping_output: Flag if RHS involves composition or '1'.\n",
        "        shape_after_lhs_reshape: The tensor shape after applying LHS compositions/splits.\n",
        "        transpose_indices: Tuple of indices for np.transpose, if needed.\n",
        "        final_shape: The expected shape of the output tensor.\n",
        "    \"\"\"\n",
        "    lhs_expression: ParsedExpressionData\n",
        "    decomposed_lhs_axes: List[str]\n",
        "    rhs_expression: ParsedExpressionData\n",
        "    decomposed_rhs_axes_final: List[str]\n",
        "    resolved_axes_lengths: Dict[str, int]\n",
        "    repeat_axes_info: Dict[str, int]\n",
        "    needs_reshaping_input: bool\n",
        "    needs_repeating: bool\n",
        "    needs_transposing: bool\n",
        "    needs_reshaping_output: bool\n",
        "    shape_after_lhs_reshape: Tuple[int, ...]\n",
        "    transpose_indices: Tuple[int, ...]\n",
        "    final_shape: Tuple[int, ...]\n",
        "\n",
        "# --- 3. Main Public Function ---\n",
        "def rearrange(tensor: np.ndarray, pattern: str, **axes_lengths: int) -> np.ndarray:\n",
        "    \"\"\"\n",
        "    Rearranges a NumPy ndarray based on the provided einops-style pattern.\n",
        "    Args:\n",
        "    tensor: The input NumPy array to rearrange.\n",
        "    pattern: The einops-style string pattern (e.g., 'b h w c -> b c h w').\n",
        "                Must contain '->'. Supports identifiers, parentheses for\n",
        "                composition/decomposition, ellipsis '...', anonymous axes '1',\n",
        "                and numeric literals or named axes on RHS for repetition.\n",
        "    **axes_lengths: Keyword arguments specifying the lengths of named axes\n",
        "                    that are either newly introduced on the RHS for repetition\n",
        "                    (e.g., b=4 in 'a -> a b') or are part of an LHS composition\n",
        "                    where the length cannot be inferred (e.g., h=10 in\n",
        "                    '(h w) c -> h w c' if the first dim size is ambiguous).\n",
        "\n",
        "    Returns: The rearranged NumPy ndarray.\n",
        "    \"\"\"\n",
        "    try:\n",
        "        # 1. Perform basic input validation (types, pattern structure)\n",
        "        _validate_input(tensor, pattern, axes_lengths)\n",
        "\n",
        "        # 2. Parse the pattern, validate semantics, and create an execution plan\n",
        "        parsed_pattern = _parse_pattern(pattern, tensor.shape, axes_lengths)\n",
        "\n",
        "        # 3. Execute the plan using NumPy operations\n",
        "        result = _execute_rearrangement(tensor, parsed_pattern)\n",
        "\n",
        "        return result\n",
        "    except EinopsError as e:\n",
        "        raise e\n",
        "    except Exception as e:\n",
        "        context = f\" for input shape {tensor.shape} with axes_lengths={axes_lengths}.\" if isinstance(tensor, np.ndarray) else \".\"\n",
        "        raise RuntimeError(f\"Unhandled exception during rearrange{context}\\n -> {e.__class__.__name__}: {e}\") from e\n",
        "\n",
        "# --- 4. Internal Helper Functions ---\n",
        "\n",
        "# --- 4a. Validation (Checker Logic) ---\n",
        "def _validate_input(tensor: np.ndarray, pattern: str, axes_lengths: Dict[str, int]) -> None:\n",
        "    \"\"\"\n",
        "    Performs initial syntax and type checks on the inputs.\n",
        "    Args:\n",
        "        tensor: The input tensor.\n",
        "        pattern: The pattern string.\n",
        "        axes_lengths: Dictionary of provided axis lengths.\n",
        "\n",
        "    Raises:\n",
        "        EinopsError: If any basic validation check fails.\n",
        "    \"\"\"\n",
        "    if not isinstance(tensor, np.ndarray):\n",
        "        raise EinopsError(\"Input tensor must be a NumPy ndarray.\")\n",
        "    if not isinstance(pattern, str):\n",
        "        raise EinopsError(\"Pattern must be a string.\")\n",
        "    if '->' not in pattern:\n",
        "        raise EinopsError(\"Pattern must contain '->' separator.\")\n",
        "    if pattern.count('->') > 1:\n",
        "        raise EinopsError(\"Pattern must contain exactly one '->' separator.\")\n",
        "    if pattern.count('(') != pattern.count(')'):\n",
        "        raise EinopsError(f\"Pattern has unbalanced parentheses: '{pattern}'\")\n",
        "\n",
        "    # Validate names and values provided in axes_lengths\n",
        "    for name, length in axes_lengths.items():\n",
        "        if not isinstance(name, str) or not name.isidentifier():\n",
        "            raise EinopsError(f\"Axis name '{name}' in axes_lengths is not a valid identifier.\")\n",
        "        # Disallow leading/trailing underscores for user-provided names\n",
        "        if name.startswith('_') or name.endswith('_'):\n",
        "            raise EinopsError(f\"Axis name '{name}' in axes_lengths should not start or end with underscore.\")\n",
        "        if not isinstance(length, int) or length <= 0:\n",
        "            raise EinopsError(f\"Length for axis '{name}' must be a positive integer, got {length}.\")\n",
        "\n",
        "# --- 4b. Parsing Helpers ---\n",
        "def _parse_expression(expression_str: str) -> ParsedExpressionData:\n",
        "    \"\"\"\n",
        "    Parses one side (LHS/RHS) of the pattern string into structured data.\n",
        "        Args:\n",
        "        expression_str: The string representing either the LHS or RHS of the pattern.\n",
        "\n",
        "    Returns:\n",
        "        A ParsedExpressionData object containing the structured representation\n",
        "        of the expression.\n",
        "\n",
        "    Raises:\n",
        "        EinopsError: If syntax errors like multiple ellipses, nested/unbalanced\n",
        "                     parentheses, invalid tokens, duplicate identifiers within\n",
        "                     the same scope (global or within a composition), or invalid\n",
        "                     numeric axes (<= 0) are found.\n",
        "    \"\"\"\n",
        "    raw_axes: List[Union[str, List[str]]] = []\n",
        "    identifiers: Set[str] = set()\n",
        "    has_ellipsis = False\n",
        "    has_anonymous_axes = False\n",
        "    has_trivial_anonymous_axis = False\n",
        "    current_composition: List[str] = None\n",
        "    in_composition = False\n",
        "    paren_level = 0\n",
        "\n",
        "    processed_expression = expression_str.replace('(', ' ( ').replace(')', ' ) ')\n",
        "    tokens = processed_expression.split()\n",
        "\n",
        "    for token in tokens:\n",
        "        if not token:\n",
        "            continue\n",
        "        if token == '...':\n",
        "            if has_ellipsis:\n",
        "                raise EinopsError(f\"Pattern side '{expression_str}' has multiple ellipses (...)\")\n",
        "            if paren_level > 0:\n",
        "                if current_composition is None:\n",
        "                    raise EinopsError(f\"Internal parsing error: In composition state without active list near '{token}' in '{expression_str}'.\")\n",
        "                current_composition.append('...')\n",
        "            else:\n",
        "                raw_axes.append('...')\n",
        "            has_ellipsis = True\n",
        "        elif token == '(':\n",
        "            if paren_level > 0:\n",
        "                raise EinopsError(f\"Nested parentheses are not allowed in pattern: '{expression_str}'\")\n",
        "            paren_level += 1\n",
        "            in_composition = True\n",
        "            current_composition = []\n",
        "        elif token == ')':\n",
        "            if paren_level == 0:\n",
        "                raise EinopsError(f\"Unbalanced parentheses (extra closing) in pattern: '{expression_str}'\")\n",
        "            paren_level -= 1\n",
        "            in_composition = False\n",
        "            if current_composition is not None:\n",
        "                raw_axes.append(list(current_composition))\n",
        "            current_composition = None\n",
        "        elif token.isidentifier():\n",
        "            if token.startswith('_') or token.endswith('_'):\n",
        "                raise EinopsError(f\"Axis name '{token}' should not start or end with underscore.\")\n",
        "            current_scope_identifiers = (set(current_composition) if in_composition else identifiers)\n",
        "            if token in current_scope_identifiers:\n",
        "                if not (in_composition and token == '1'): # Allow duplicate '1' inside composition\n",
        "                    raise EinopsError(f\"Duplicate identifier '{token}' in expression '{expression_str}'\")\n",
        "            if in_composition:\n",
        "                current_composition.append(token)\n",
        "            else:\n",
        "                raw_axes.append(token)\n",
        "            identifiers.add(token)\n",
        "        elif token.isdigit():\n",
        "            num_val = int(token)\n",
        "            if num_val <= 0:\n",
        "                raise EinopsError(f\"Numeric axis must be positive, found '{token}' in '{expression_str}'\")\n",
        "            axis_repr = str(num_val)\n",
        "            if num_val == 1:\n",
        "                has_trivial_anonymous_axis = True\n",
        "            else:\n",
        "                has_anonymous_axes = True\n",
        "            if num_val != 1:\n",
        "                 current_scope_identifiers_check = (set(current_composition) if in_composition else identifiers | {ax for ax in raw_axes if isinstance(ax, str)})\n",
        "                 if axis_repr in current_scope_identifiers_check:\n",
        "                     raise EinopsError(f\"Duplicate identifier '{axis_repr}' (numeric literal treated as identifier) in expression '{expression_str}'\")\n",
        "            if in_composition:\n",
        "                if current_composition is None:\n",
        "                     raise EinopsError(f\"Internal parsing error: In composition state without active list near '{token}' in '{expression_str}'.\")\n",
        "                current_composition.append(axis_repr)\n",
        "            else:\n",
        "                raw_axes.append(axis_repr)\n",
        "        else:\n",
        "            if '.' in token:\n",
        "                raise EinopsError(\"Invalid token '.' found outside ellipsis (...)\")\n",
        "            raise EinopsError(f\"Invalid token '{token}' found during parsing of '{expression_str}'\")\n",
        "\n",
        "    if paren_level != 0:\n",
        "        raise EinopsError(f\"Unbalanced parentheses in pattern: '{expression_str}'\")\n",
        "\n",
        "    processed_raw_axes = []\n",
        "    for axis_group in raw_axes:\n",
        "        if isinstance(axis_group, list):\n",
        "            if len(axis_group) == 1:\n",
        "                processed_raw_axes.append(axis_group[0]) # Simplify (a) -> a\n",
        "            else:\n",
        "                processed_raw_axes.append(axis_group)\n",
        "        else:\n",
        "            processed_raw_axes.append(axis_group)\n",
        "\n",
        "    has_actual_composition = any(isinstance(ax, list) and len(ax) > 1 for ax in processed_raw_axes)\n",
        "\n",
        "    return ParsedExpressionData(\n",
        "        raw_axes=processed_raw_axes,\n",
        "        identifiers=identifiers,\n",
        "        has_ellipsis=has_ellipsis,\n",
        "        has_composition=has_actual_composition,\n",
        "        has_anonymous_axes=has_anonymous_axes,\n",
        "        has_trivial_anonymous_axis=has_trivial_anonymous_axis,\n",
        "    )\n",
        "\n",
        "# --- 4c. Main Parsing Logic ---\n",
        "def _parse_pattern(pattern: str, tensor_shape: Tuple[int, ...], axes_lengths: Dict[str, int]) -> ParsedPattern:\n",
        "    \"\"\"Parses the complete einops pattern, performs semantic validation,\n",
        "    and generates an execution plan (ParsedPattern)\n",
        "    Args:\n",
        "        pattern: The full einops pattern string (e.g., 'b (h w) c -> b h w c').\n",
        "        tensor_shape: The shape tuple of the input NumPy array.\n",
        "        axes_lengths: Dictionary of provided axis lengths for new/ambiguous axes.\n",
        "\n",
        "    Returns:\n",
        "        A ParsedPattern object containing the detailed execution plan.\n",
        "\n",
        "    Raises:\n",
        "        EinopsError: If any semantic validation fails\n",
        "    \"\"\"\n",
        "    lhs_str, rhs_str = pattern.split('->')\n",
        "    lhs_str = lhs_str.strip()\n",
        "    rhs_str = rhs_str.strip()\n",
        "\n",
        "    lhs_data = _parse_expression(lhs_str)\n",
        "    rhs_data = _parse_expression(rhs_str)\n",
        "\n",
        "    if not lhs_data.has_ellipsis and rhs_data.has_ellipsis:\n",
        "        raise EinopsError(f\"Ellipsis found in right side, but not left side of pattern '{pattern}'\")\n",
        "\n",
        "    resolved_axes_lengths: Dict[str, int] = axes_lengths.copy()\n",
        "    decomposed_lhs_axes: List[str] = []\n",
        "    current_dim_index = 0\n",
        "    ellipsis_axes_names: List[str] = []\n",
        "    ellipsis_start_index_in_shape = -1\n",
        "    ellipsis_marker_index_in_raw = -1\n",
        "\n",
        "    # --- Ellipsis Handling ---\n",
        "    if lhs_data.has_ellipsis:\n",
        "        non_ellipsis_dims_lhs = sum(1 for ax_group in lhs_data.raw_axes if ax_group != '...')\n",
        "        if len(tensor_shape) < non_ellipsis_dims_lhs:\n",
        "            raise EinopsError(f\"Input tensor has {len(tensor_shape)} dimensions, but pattern requires at least {non_ellipsis_dims_lhs} explicit axes (excluding ellipsis). Pattern: '{lhs_str}'\")\n",
        "        ellipsis_ndim = len(tensor_shape) - non_ellipsis_dims_lhs\n",
        "        ellipsis_axes_names = [f\"_ellipsis_{i}\" for i in range(ellipsis_ndim)]\n",
        "        try:\n",
        "            ellipsis_marker_index_in_raw = lhs_data.raw_axes.index('...')\n",
        "            ellipsis_start_index_in_shape = ellipsis_marker_index_in_raw\n",
        "        except ValueError:\n",
        "            raise EinopsError(f\"Internal error: Ellipsis flag set but '...' not found in raw LHS axes: {lhs_data.raw_axes}\")\n",
        "        for i, name in enumerate(ellipsis_axes_names):\n",
        "            resolved_axes_lengths[name] = tensor_shape[ellipsis_start_index_in_shape + i]\n",
        "\n",
        "    # --- Process LHS ---\n",
        "    raw_axes_index = 0\n",
        "    while raw_axes_index < len(lhs_data.raw_axes):\n",
        "        axis_group = lhs_data.raw_axes[raw_axes_index]\n",
        "        is_ellipsis_group = (axis_group == '...')\n",
        "\n",
        "        if is_ellipsis_group:\n",
        "            decomposed_lhs_axes.extend(ellipsis_axes_names)\n",
        "        else:\n",
        "            # Determine corresponding dimension index in tensor_shape\n",
        "            current_shape_dim_index = -1\n",
        "            if lhs_data.has_ellipsis:\n",
        "                if raw_axes_index < ellipsis_marker_index_in_raw:\n",
        "                    current_shape_dim_index = current_dim_index\n",
        "                else:\n",
        "                    num_groups_before_this_after_ellipsis = raw_axes_index - (ellipsis_marker_index_in_raw + 1)\n",
        "                    current_shape_dim_index = ellipsis_start_index_in_shape + ellipsis_ndim + num_groups_before_this_after_ellipsis\n",
        "            else:\n",
        "                current_shape_dim_index = current_dim_index\n",
        "\n",
        "            if current_shape_dim_index >= len(tensor_shape):\n",
        "                raise EinopsError(f\"Rank mismatch: Pattern '{lhs_str}' has more axes ({raw_axes_index+1} processed) than input tensor rank {len(tensor_shape)}.\")\n",
        "            dim_size = tensor_shape[current_shape_dim_index]\n",
        "\n",
        "            if isinstance(axis_group, list):\n",
        "                # Handle LHS Composition\n",
        "                current_composition_axes = []\n",
        "                known_axes = {}\n",
        "                unknown_axes = []\n",
        "                has_one_in_comp = False\n",
        "                for ax in axis_group:\n",
        "                     if ax == '1': has_one_in_comp = True; continue\n",
        "                     elif ax.isdigit(): raise EinopsError(f\"Numeric literal '{ax}' > 1 not allowed in LHS composition '{axis_group}'\")\n",
        "                     elif ax in resolved_axes_lengths: known_axes[ax] = resolved_axes_lengths[ax]\n",
        "                     else: unknown_axes.append(ax)\n",
        "                     current_composition_axes.append(ax)\n",
        "\n",
        "                if len(unknown_axes) > 1:\n",
        "                    raise EinopsError(f\"Could not infer sizes for multiple axes {unknown_axes} in composition '{axis_group}' mapping to dimension {current_shape_dim_index} (size {dim_size}). Provide lengths via axes_lengths.\")\n",
        "                known_product = math.prod(known_axes.values()) if known_axes else 1\n",
        "\n",
        "                if has_one_in_comp and len(unknown_axes) == 0 and dim_size != known_product:\n",
        "                     raise EinopsError(f\"Shape mismatch: Dimension {current_shape_dim_index} (size {dim_size}) does not match product of known axes ({known_product}) in composition '{axis_group}' which includes '1'.\")\n",
        "\n",
        "                if len(unknown_axes) == 1:\n",
        "                    unknown_axis = unknown_axes[0]\n",
        "                    if known_product == 0: raise EinopsError(f\"Cannot infer axis size for '{unknown_axis}' when known product is zero in composition '{axis_group}'\")\n",
        "                    if dim_size % known_product != 0: raise EinopsError(f\"Shape mismatch: Dimension {current_shape_dim_index} (size {dim_size}) is not divisible by product of known axes ({known_product}) for composition '{axis_group}'. Cannot infer '{unknown_axis}'.\")\n",
        "                    inferred = dim_size // known_product\n",
        "                    if unknown_axis in resolved_axes_lengths and resolved_axes_lengths[unknown_axis] != inferred: raise EinopsError(f\"Axis '{unknown_axis}' length mismatch: Provided/inferred earlier as {resolved_axes_lengths[unknown_axis]}, but calculated as {inferred} from shape dimension {current_shape_dim_index} (size {dim_size}) and composition '{axis_group}'.\")\n",
        "                    resolved_axes_lengths[unknown_axis] = inferred\n",
        "                    known_axes[unknown_axis] = inferred\n",
        "                elif len(unknown_axes) == 0:\n",
        "                    required_product = known_product\n",
        "                    if dim_size != required_product:\n",
        "                        if not (has_one_in_comp and dim_size == 1 and required_product == 1): raise EinopsError(f\"Shape mismatch: Dimension {current_shape_dim_index} (size {dim_size}) does not match required product ({required_product}) for composition {axis_group}.\")\n",
        "                decomposed_lhs_axes.extend(current_composition_axes)\n",
        "\n",
        "            elif isinstance(axis_group, str):\n",
        "                # Handle Simple LHS Axis\n",
        "                if axis_group == '1':\n",
        "                    if dim_size != 1: raise EinopsError(f\"Shape mismatch: Dimension {current_shape_dim_index} (size {dim_size}) corresponds to pattern axis '1', but size is not 1.\")\n",
        "                    # Do not add '1' to decomposed_lhs_axes\n",
        "                elif axis_group.isdigit():\n",
        "                    raise EinopsError(f\"Numeric literal '{axis_group}' > 1 is not allowed on LHS of rearrange pattern.\")\n",
        "                else: # Named axis\n",
        "                    axis_name = axis_group\n",
        "                    if axis_name in resolved_axes_lengths and resolved_axes_lengths[axis_name] != dim_size:\n",
        "                        raise EinopsError(f\"Axis '{axis_name}' length mismatch: Provided/inferred earlier as {resolved_axes_lengths[axis_name]}, but dimension {current_shape_dim_index} has size {dim_size}.\")\n",
        "                    resolved_axes_lengths[axis_name] = dim_size\n",
        "                    decomposed_lhs_axes.append(axis_name)\n",
        "            else:\n",
        "                 raise EinopsError(f\"Internal parsing error: Unexpected LHS element type {type(axis_group)}\")\n",
        "\n",
        "            current_dim_index += 1 # Increment for next non-ellipsis dimension\n",
        "        raw_axes_index += 1\n",
        "\n",
        "    # --- Create lhs_set AFTER processing LHS ---\n",
        "    lhs_set = set(decomposed_lhs_axes)\n",
        "\n",
        "    # --- Check LHS Rank Match ---\n",
        "    num_pattern_groups_lhs = len(lhs_data.raw_axes)\n",
        "    expected_rank_from_pattern = (num_pattern_groups_lhs - 1 + len(ellipsis_axes_names)) if lhs_data.has_ellipsis else num_pattern_groups_lhs\n",
        "    if expected_rank_from_pattern != len(tensor_shape):\n",
        "        raise EinopsError(f\"Rank mismatch: Pattern '{lhs_str}' implies rank {expected_rank_from_pattern}, but tensor has rank {len(tensor_shape)}.\")\n",
        "\n",
        "    # --- Process RHS ---\n",
        "    decomposed_rhs_axes_final: List[str] = []\n",
        "    repeat_axes_info: Dict[str, int] = {}\n",
        "    repeat_counter = 0\n",
        "    final_shape_list: List[int] = []\n",
        "\n",
        "    for axis_group in rhs_data.raw_axes:\n",
        "        if axis_group == '...':\n",
        "            decomposed_rhs_axes_final.extend(ellipsis_axes_names)\n",
        "            final_shape_list.extend(resolved_axes_lengths[ax] for ax in ellipsis_axes_names)\n",
        "        elif isinstance(axis_group, list):\n",
        "            # Handle RHS Composition\n",
        "            group_axes = []\n",
        "            group_len_prod = 1\n",
        "            for axis_name in axis_group:\n",
        "                if axis_name == '1':\n",
        "                    anon_name = f\"_anon_1_{len(decomposed_rhs_axes_final) + len(group_axes)}\"\n",
        "                    group_axes.append(anon_name)\n",
        "                    group_len_prod *= 1\n",
        "                elif axis_name.isdigit():\n",
        "                    repeat_len = int(axis_name)\n",
        "                    repeat_axis_name = f\"_repeat_{repeat_counter}\"\n",
        "                    repeat_axes_info[repeat_axis_name] = repeat_len\n",
        "                    group_axes.append(repeat_axis_name)\n",
        "                    group_len_prod *= repeat_len\n",
        "                    repeat_counter += 1\n",
        "                elif axis_name in resolved_axes_lengths: # Known from LHS or prev RHS\n",
        "                    group_axes.append(axis_name)\n",
        "                    group_len_prod *= resolved_axes_lengths[axis_name]\n",
        "                elif axis_name in axes_lengths: # New named axis from kwargs\n",
        "                    if axis_name in lhs_set: raise EinopsError(f\"Axis '{axis_name}' provided in axes_lengths but already exists on LHS. Use only for new axes.\")\n",
        "                    resolved_axes_lengths[axis_name] = axes_lengths[axis_name]\n",
        "                    repeat_axes_info[axis_name] = axes_lengths[axis_name]\n",
        "                    group_axes.append(axis_name)\n",
        "                    group_len_prod *= axes_lengths[axis_name]\n",
        "                else:\n",
        "                    raise EinopsError(f\"Unknown axis '{axis_name}' in RHS composition '{axis_group}'\")\n",
        "            decomposed_rhs_axes_final.extend(group_axes)\n",
        "            if len(group_axes) > 0:\n",
        "                final_shape_list.append(group_len_prod)\n",
        "\n",
        "        elif isinstance(axis_group, str):\n",
        "            # Handle Simple RHS Axis\n",
        "            if axis_group == '1':\n",
        "                anon_name = f\"_anon_1_{len(decomposed_rhs_axes_final)}\"\n",
        "                decomposed_rhs_axes_final.append(anon_name)\n",
        "                final_shape_list.append(1)\n",
        "            elif axis_group.isdigit():\n",
        "                repeat_len = int(axis_group)\n",
        "                repeat_axis_name = f\"_repeat_{repeat_counter}\"\n",
        "                repeat_axes_info[repeat_axis_name] = repeat_len\n",
        "                decomposed_rhs_axes_final.append(repeat_axis_name)\n",
        "                final_shape_list.append(repeat_len)\n",
        "                repeat_counter += 1\n",
        "            else: # Named identifier\n",
        "                # *** CORRECTED LOGIC START ***\n",
        "                # Check 1: Is this axis known FROM THE LHS?\n",
        "                if axis_group in lhs_set:\n",
        "                    # Yes, it's a reused axis.\n",
        "                    decomposed_rhs_axes_final.append(axis_group)\n",
        "                    final_shape_list.append(resolved_axes_lengths[axis_group])\n",
        "                # Check 2: Is it a NEW axis (not from LHS) whose length was provided via **axes_lengths?\n",
        "                elif axis_group in axes_lengths:\n",
        "                    # Yes, this is a NEW named axis for repetition.\n",
        "                    # Ensure length is consistent if somehow already resolved\n",
        "                    if axis_group in resolved_axes_lengths and resolved_axes_lengths[axis_group] != axes_lengths[axis_group]:\n",
        "                         # This case should ideally not happen if input validation is correct\n",
        "                         # If it happens, prioritize the explicitly passed length\n",
        "                         resolved_axes_lengths[axis_group] = axes_lengths[axis_group]\n",
        "                    elif axis_group not in resolved_axes_lengths:\n",
        "                         resolved_axes_lengths[axis_group] = axes_lengths[axis_group] # Add if missing\n",
        "\n",
        "                    # Add to repeat_axes_info\n",
        "                    repeat_axes_info[axis_group] = axes_lengths[axis_group]\n",
        "                    decomposed_rhs_axes_final.append(axis_group)\n",
        "                    final_shape_list.append(axes_lengths[axis_group])\n",
        "                # Check 3: Otherwise, it's an unknown axis.\n",
        "                else:\n",
        "                    context=f\"Axis '{axis_group}' appears on the right side ('{rhs_str}') \"\n",
        "                    context+=f\"but is not defined on the left side ('{lhs_str}') \"\n",
        "                    context+=f\"and its length is not specified via axes_lengths={axes_lengths}\"\n",
        "                    raise EinopsError(context)\n",
        "                # *** CORRECTED LOGIC END ***\n",
        "        else:\n",
        "            raise EinopsError(f\"Internal parsing error: Unexpected RHS element type {type(axis_group)}\")\n",
        "\n",
        "    final_shape = tuple(final_shape_list)\n",
        "\n",
        "    # --- Final Validation ---\n",
        "    rhs_set_all_atomic = {ax for ax in decomposed_rhs_axes_final if not ax.startswith('_anon_1_')}\n",
        "    repeat_set = set(repeat_axes_info.keys())\n",
        "    extra_on_rhs = rhs_set_all_atomic - lhs_set\n",
        "    missing_on_rhs = lhs_set - rhs_set_all_atomic\n",
        "\n",
        "    # Check 1: Unaccounted axes on RHS\n",
        "    if extra_on_rhs != repeat_set:\n",
        "        unaccounted_extra = extra_on_rhs - repeat_set\n",
        "        if unaccounted_extra: # Only error if there are truly unaccounted axes\n",
        "             raise EinopsError(f\"Axes {unaccounted_extra} appear on RHS but not LHS\")\n",
        "\n",
        "    # Check 2: Reduction\n",
        "    if missing_on_rhs:\n",
        "        raise EinopsError(f\"Axes {missing_on_rhs} present on LHS but missing on RHS. Reduction is not supported by rearrange.\")\n",
        "\n",
        "    # --- Determine Execution Plan Flags ---\n",
        "    needs_reshaping_input = lhs_data.has_composition or lhs_data.has_trivial_anonymous_axis\n",
        "    needs_repeating = bool(repeat_axes_info)\n",
        "    needs_reshaping_output = rhs_data.has_composition or any(ax.startswith('_anon_1_') for ax in decomposed_rhs_axes_final)\n",
        "    shape_after_lhs_reshape = tuple(resolved_axes_lengths[ax] for ax in decomposed_lhs_axes)\n",
        "\n",
        "    # --- Determine Transpose ---\n",
        "    transpose_indices: Tuple[int, ...] = ()\n",
        "    needs_transposing = False\n",
        "    source_axes_order = decomposed_lhs_axes\n",
        "    target_order_for_transpose = [ax for ax in decomposed_rhs_axes_final if ax in lhs_set]\n",
        "\n",
        "    if source_axes_order != target_order_for_transpose:\n",
        "        if set(source_axes_order) != set(target_order_for_transpose):\n",
        "            raise EinopsError(f\"Internal error: Mismatch between source axes ({set(source_axes_order)}) and target axes for transpose ({set(target_order_for_transpose)}).\")\n",
        "        needs_transposing = True\n",
        "        try:\n",
        "            transpose_indices = tuple(source_axes_order.index(ax) for ax in target_order_for_transpose)\n",
        "        except ValueError as e:\n",
        "            raise EinopsError(f\"Internal error calculating transpose order: {e}\")\n",
        "\n",
        "    # --- Construct ParsedPattern ---\n",
        "    parsed_info = ParsedPattern(\n",
        "        lhs_expression=lhs_data,\n",
        "        decomposed_lhs_axes=decomposed_lhs_axes,\n",
        "        rhs_expression=rhs_data,\n",
        "        decomposed_rhs_axes_final=decomposed_rhs_axes_final,\n",
        "        resolved_axes_lengths=resolved_axes_lengths,\n",
        "        repeat_axes_info=repeat_axes_info,\n",
        "        needs_reshaping_input=needs_reshaping_input,\n",
        "        needs_repeating=needs_repeating,\n",
        "        needs_transposing=needs_transposing,\n",
        "        needs_reshaping_output=needs_reshaping_output,\n",
        "        shape_after_lhs_reshape=shape_after_lhs_reshape,\n",
        "        transpose_indices=transpose_indices,\n",
        "        final_shape=final_shape,\n",
        "    )\n",
        "    return parsed_info\n",
        "\n",
        "# --- 4d. Execution (Executor Logic) ---\n",
        "def _execute_rearrangement(tensor: np.ndarray, plan: ParsedPattern) -> np.ndarray:\n",
        "    \"\"\"\n",
        "    Executes the rearrangement plan using a sequence of NumPy operations.\n",
        "\n",
        "    Applies reshape, transpose, and repeat operations based on the flags\n",
        "    and data stored in the ParsedPattern object.\n",
        "\n",
        "    Args:\n",
        "        tensor: The original input NumPy array.\n",
        "        plan: The ParsedPattern object containing the execution plan.\n",
        "\n",
        "    Returns:\n",
        "        The transformed NumPy array.\n",
        "\n",
        "    Raises:\n",
        "        EinopsError: Wraps potential NumPy errors (ValueError, IndexError)\n",
        "                     that might occur during reshape, transpose, or repeat,\n",
        "                     adding context about the operation being performed.\n",
        "    \"\"\"\n",
        "    current_tensor = tensor\n",
        "    current_shape = tensor.shape\n",
        "    try:\n",
        "        # --- 1. Initial Reshape ---\n",
        "        if plan.needs_reshaping_input:\n",
        "            target_shape = plan.shape_after_lhs_reshape\n",
        "            if math.prod(current_shape) != math.prod(target_shape):\n",
        "                raise EinopsError(f\"Internal error during initial reshape: Cannot reshape {current_shape} (size {math.prod(current_shape)}) to {target_shape} (size {math.prod(target_shape)}), element count mismatch.\")\n",
        "            current_tensor = current_tensor.reshape(target_shape)\n",
        "            current_shape = current_tensor.shape\n",
        "\n",
        "        # --- 2. Transpose ---\n",
        "        if plan.needs_transposing:\n",
        "            if len(plan.transpose_indices) != len(current_shape):\n",
        "                raise EinopsError(f\"Internal error during transpose: Transpose indices length {len(plan.transpose_indices)} != tensor rank {len(current_shape)}. Current shape: {current_shape}\")\n",
        "            current_tensor = np.transpose(current_tensor, axes=plan.transpose_indices)\n",
        "            current_shape = current_tensor.shape\n",
        "\n",
        "        # --- 3. Axis Insertion and Repetition ---\n",
        "        needs_axis_insertion = plan.needs_repeating or any(ax.startswith(\"_anon_1_\") for ax in plan.decomposed_rhs_axes_final)\n",
        "        if needs_axis_insertion:\n",
        "            temp_tensor = current_tensor\n",
        "            insert_locations = []\n",
        "            lhs_axes_set = set(plan.decomposed_lhs_axes)\n",
        "            # Find positions where new axes need to be inserted\n",
        "            for i, final_axis_name in enumerate(plan.decomposed_rhs_axes_final):\n",
        "                is_new_axis = (final_axis_name.startswith(('_repeat_', '_anon_1_')) or (final_axis_name in plan.repeat_axes_info and final_axis_name not in lhs_axes_set))\n",
        "                if is_new_axis:\n",
        "                    insert_locations.append((i, final_axis_name))\n",
        "\n",
        "            # Insert placeholder dimensions\n",
        "            if insert_locations:\n",
        "                insert_locations.sort(key=lambda x: x[0]) # Insert from left to right\n",
        "                for insert_pos, axis_name in insert_locations:\n",
        "                    actual_insert_pos = insert_pos # Index relative to current shape\n",
        "                    temp_tensor = np.expand_dims(temp_tensor, axis=actual_insert_pos)\n",
        "\n",
        "            # Perform repeats on the expanded tensor\n",
        "            repeat_tensor = temp_tensor\n",
        "            for insert_pos, axis_name in insert_locations: # Use same indices as insertion\n",
        "                if axis_name in plan.repeat_axes_info:\n",
        "                    repeat_len = plan.repeat_axes_info[axis_name]\n",
        "                    if repeat_len > 1:\n",
        "                        repeat_tensor = np.repeat(repeat_tensor, repeat_len, axis=insert_pos)\n",
        "\n",
        "            current_tensor = repeat_tensor\n",
        "            current_shape = current_tensor.shape\n",
        "\n",
        "        # --- 4. Final Reshape ---\n",
        "        # Reshape if needed due to RHS composition or if shape doesn't match target\n",
        "        needs_final_reshape = plan.needs_reshaping_output or (current_shape != plan.final_shape)\n",
        "        if needs_final_reshape:\n",
        "            target_shape = plan.final_shape\n",
        "            # Check element count before final reshape as well\n",
        "            if math.prod(current_shape) != math.prod(target_shape):\n",
        "                raise EinopsError(f\"Internal error before final reshape: Cannot reshape {current_shape} (size {math.prod(current_shape)}) to {target_shape} (size {math.prod(target_shape)}), element count mismatch.\")\n",
        "            current_tensor = current_tensor.reshape(target_shape)\n",
        "            current_shape = current_tensor.shape\n",
        "\n",
        "        # --- Final Sanity Check ---\n",
        "        if current_tensor.shape != plan.final_shape:\n",
        "            raise EinopsError(f\"Internal error: Final shape mismatch after all operations. Expected {plan.final_shape}, but got {current_shape}\")\n",
        "\n",
        "    except ValueError as ve:\n",
        "        raise EinopsError(f\"NumPy ValueError during execution: {ve}. Current shape during error: {current_shape}\") from ve\n",
        "    except IndexError as ie:\n",
        "        op = \"transpose\" if plan.needs_transposing else \"repeat/expand/reshape\"\n",
        "        indices = plan.transpose_indices if plan.needs_transposing else 'N/A'\n",
        "        raise EinopsError(f\"NumPy IndexError during {op}: {ie}. Current shape: {current_shape}. Indices/Axis info: {indices}\") from ie\n",
        "    except EinopsError:\n",
        "         raise # Re-raise specific EinopsErrors\n",
        "    except Exception as e:\n",
        "        raise EinopsError(f\"Unexpected NumPy error during execution: {type(e).__name__}: {e}. Current shape: {current_shape}\") from e\n",
        "\n",
        "    return current_tensor\n"
      ]
    },
    {
      "cell_type": "markdown",
      "source": [
        "### The purpose of the below code is to:\n",
        "1. Retrieve the files 'my_einops.py' and 'sarvam.npy' from the specified GitHub repository.\n",
        "2. Utilize these files within the current Colab environment."
      ],
      "metadata": {
        "id": "VAgAoKk-Co-c"
      }
    },
    {
      "cell_type": "code",
      "source": [
        "import os\n",
        "import sys\n",
        "import numpy as np\n",
        "from PIL.Image import fromarray\n",
        "from IPython import get_ipython\n",
        "\n",
        "GIT_REPO_URL = \"https://github.com/emharsha1812/Sarvam-Research-Fellow-Assignment---Harshwardhan.git\"\n",
        "repo_name = GIT_REPO_URL.split('/')[-1].replace('.git', '')\n",
        "repo_path = f\"/content/{repo_name}\"\n",
        "!git clone {GIT_REPO_URL} {repo_path}\n",
        "sys.path.insert(0, repo_path)\n",
        "\n",
        "npy_filename = \"/content/Sarvam-Research-Fellow-Assignment---Harshwardhan/sarvam.npy\""
      ],
      "metadata": {
        "id": "hLIpqxJ9GA6n",
        "colab": {
          "base_uri": "https://localhost:8080/"
        },
        "outputId": "f98f5111-599d-4994-c56b-2b7cba5c7dcb"
      },
      "execution_count": 1,
      "outputs": [
        {
          "output_type": "stream",
          "name": "stdout",
          "text": [
            "Cloning into '/content/Sarvam-Research-Fellow-Assignment---Harshwardhan'...\n",
            "remote: Enumerating objects: 83, done.\u001b[K\n",
            "remote: Counting objects: 100% (83/83), done.\u001b[K\n",
            "remote: Compressing objects: 100% (56/56), done.\u001b[K\n",
            "remote: Total 83 (delta 31), reused 68 (delta 22), pack-reused 0 (from 0)\u001b[K\n",
            "Receiving objects: 100% (83/83), 408.93 KiB | 3.65 MiB/s, done.\n",
            "Resolving deltas: 100% (31/31), done.\n"
          ]
        }
      ]
    },
    {
      "cell_type": "code",
      "source": [
        "import os\n",
        "import sys\n",
        "import numpy as np\n",
        "from PIL.Image import fromarray\n",
        "from IPython import get_ipython\n",
        "\n",
        "# The following code is a boilerplate snippet adapted from the Einops library.\n",
        "# It is used solely for displaying NumPy ndarrays as images within this notebook.\n",
        "# IMP - This functionality is for demonstration purposes only and does not affect the core Einops implementation.\n",
        "\n",
        "def display_np_arrays_as_images():\n",
        "    def np_to_png(a):\n",
        "        if 2 <= len(a.shape) <= 3:\n",
        "            return fromarray(np.array(np.clip(a, 0, 1) * 255, dtype=\"uint8\"))._repr_png_()\n",
        "        else:\n",
        "            return fromarray(np.zeros([1, 1], dtype=\"uint8\"))._repr_png_()\n",
        "\n",
        "    def np_to_text(obj, p, cycle):\n",
        "        if len(obj.shape) < 2:\n",
        "            print(repr(obj))\n",
        "        if 2 <= len(obj.shape) <= 3:\n",
        "            pass\n",
        "        else:\n",
        "            print(\"<array of shape {}>\".format(obj.shape))\n",
        "\n",
        "    ip = get_ipython()\n",
        "    ip.display_formatter.formatters[\"image/png\"].for_type(np.ndarray, np_to_png)\n",
        "    ip.display_formatter.formatters[\"text/plain\"].for_type(np.ndarray, np_to_text)\n",
        "\n",
        "# Register the custom display formatters\n",
        "ims = np.load(npy_filename, allow_pickle=False)\n",
        "display_np_arrays_as_images()\n",
        "\n",
        "# Now, displaying an image (e.g., the first image) in a Jupyter cell:\n",
        "ims[0]\n"
      ],
      "metadata": {
        "id": "Fs6LP6oSXvFQ",
        "colab": {
          "base_uri": "https://localhost:8080/",
          "height": 65
        },
        "outputId": "b34ba8c6-f57b-4a25-f02d-cced262fbfb6"
      },
      "execution_count": 2,
      "outputs": [
        {
          "output_type": "execute_result",
          "data": {
            "text/plain": [],
            "image/png": "[encoded data removed]"
          },
          "metadata": {},
          "execution_count": 2
        }
      ]
    },
    {
      "cell_type": "markdown",
      "source": [
        "### Using the `my_einops` Module\n",
        "\n",
        "Now we will utilize the `my_einops` module, which contains our custom implementation of the `rearrange` function. This module is defined in the `my_einops.py` file that we retrieved from the GitHub repository.  Specifically, we import the `rearrange` function for use in the following code examples."
      ],
      "metadata": {
        "id": "CaDzQBLYOPFO"
      }
    },
    {
      "cell_type": "code",
      "source": [
        "import my_einops\n",
        "import numpy as np\n",
        "from my_einops import rearrange # Use the filename you saved\n",
        "\n"
      ],
      "metadata": {
        "id": "3fFzey7dDc99"
      },
      "execution_count": 3,
      "outputs": []
    },
    {
      "cell_type": "code",
      "source": [
        "## Functionality One - Transposing the first two axes (dimensions)\n",
        "rearrange(ims[0],\"h w c -> w h c\")"
      ],
      "metadata": {
        "colab": {
          "base_uri": "https://localhost:8080/",
          "height": 65
        },
        "id": "l_-vTu7CH4fR",
        "outputId": "bba13ea3-e10f-4aa0-c764-ed0acf71e420"
      },
      "execution_count": 4,
      "outputs": [
        {
          "output_type": "execute_result",
          "data": {
            "text/plain": [],
            "image/png": "[encoded data removed]"
          },
          "metadata": {},
          "execution_count": 4
        }
      ]
    },
    {
      "cell_type": "code",
      "source": [
        "## Using more verbose names for axes (width height color)\n",
        "rearrange(ims[3], \"height width color -> width height color\")\n"
      ],
      "metadata": {
        "colab": {
          "base_uri": "https://localhost:8080/",
          "height": 65
        },
        "id": "fC98b4quH8Jn",
        "outputId": "22535433-f513-411e-8d86-6a1066e593b2"
      },
      "execution_count": 5,
      "outputs": [
        {
          "output_type": "execute_result",
          "data": {
            "text/plain": [],
            "image/png": "[encoded data removed]"
          },
          "metadata": {},
          "execution_count": 5
        }
      ]
    },
    {
      "cell_type": "code",
      "source": [
        "#seamlessly composing batch and height to a new height dimension\n",
        "#rendered all images by collapsing to 3d tensor\n",
        "rearrange(ims, \"b h w c -> (b h) w c\")"
      ],
      "metadata": {
        "colab": {
          "base_uri": "https://localhost:8080/",
          "height": 305
        },
        "id": "DxupoI6qIRks",
        "outputId": "e36d2f03-f637-4cc2-c437-e1f16d6f6bec"
      },
      "execution_count": 6,
      "outputs": [
        {
          "output_type": "execute_result",
          "data": {
            "text/plain": [],
            "image/png": "[encoded data removed]"
          },
          "metadata": {},
          "execution_count": 6
        }
      ]
    },
    {
      "cell_type": "code",
      "source": [
        "## Composing a new dimension of batch and width\n",
        "rearrange(ims, \"b h w c -> h (b w) c\")"
      ],
      "metadata": {
        "colab": {
          "base_uri": "https://localhost:8080/",
          "height": 65
        },
        "id": "sce01gSSIdtV",
        "outputId": "6071636d-382b-4b87-8e8a-7027425565b4"
      },
      "execution_count": 7,
      "outputs": [
        {
          "output_type": "execute_result",
          "data": {
            "text/plain": [],
            "image/png": "[encoded data removed]"
          },
          "metadata": {},
          "execution_count": 7
        }
      ]
    },
    {
      "cell_type": "code",
      "source": [
        "rearrange(ims, \"b h w c -> h (b w) c\").shape"
      ],
      "metadata": {
        "colab": {
          "base_uri": "https://localhost:8080/"
        },
        "id": "hbRnkcNvIjPM",
        "outputId": "5ea4b933-c356-4309-bf50-2d31f0a26548"
      },
      "execution_count": 8,
      "outputs": [
        {
          "output_type": "execute_result",
          "data": {
            "text/plain": [
              "(48, 288, 3)"
            ]
          },
          "metadata": {},
          "execution_count": 8
        }
      ]
    },
    {
      "cell_type": "code",
      "source": [
        "# let's flatten 4d array into 1d, resulting array has as many elements as the original\n",
        "rearrange(ims, \"b h w c -> (b h w c)\").shape"
      ],
      "metadata": {
        "colab": {
          "base_uri": "https://localhost:8080/"
        },
        "id": "DcV_Kr4QImP7",
        "outputId": "49b7c461-f0b4-465f-903d-9ff75fd370fa"
      },
      "execution_count": 9,
      "outputs": [
        {
          "output_type": "execute_result",
          "data": {
            "text/plain": [
              "(41472,)"
            ]
          },
          "metadata": {},
          "execution_count": 9
        }
      ]
    },
    {
      "cell_type": "markdown",
      "source": [
        "#### Decomposition of axis"
      ],
      "metadata": {
        "id": "sSgxrO8fIqgA"
      }
    },
    {
      "cell_type": "code",
      "source": [
        "rearrange(ims, \"(b1 b2) h w c -> b1 b2 h w c \", b1=2).shape"
      ],
      "metadata": {
        "colab": {
          "base_uri": "https://localhost:8080/"
        },
        "id": "hPGQMpkqIo0k",
        "outputId": "bdf5ed3a-7511-46cc-aaeb-5faeddf41983"
      },
      "execution_count": 10,
      "outputs": [
        {
          "output_type": "execute_result",
          "data": {
            "text/plain": [
              "(2, 3, 48, 48, 3)"
            ]
          },
          "metadata": {},
          "execution_count": 10
        }
      ]
    },
    {
      "cell_type": "code",
      "source": [
        "# finally, combine composition and decomposition:\n",
        "rearrange(ims, \"(b1 b2) h w c -> (b1 h) (b2 w) c \", b1=2)"
      ],
      "metadata": {
        "colab": {
          "base_uri": "https://localhost:8080/",
          "height": 113
        },
        "id": "oFCH9c7pIuq2",
        "outputId": "47067809-f9e5-42b9-bb85-3fd8f023a95f"
      },
      "execution_count": 11,
      "outputs": [
        {
          "output_type": "execute_result",
          "data": {
            "text/plain": [],
            "image/png": "[encoded data removed]"
          },
          "metadata": {},
          "execution_count": 11
        }
      ]
    },
    {
      "cell_type": "code",
      "source": [
        "# slightly different composition: b1 is merged with width, b2 with height\n",
        "# ... so letters are ordered by w then by h\n",
        "rearrange(ims, \"(b1 b2) h w c -> (b2 h) (b1 w) c \", b1=2)"
      ],
      "metadata": {
        "colab": {
          "base_uri": "https://localhost:8080/",
          "height": 161
        },
        "id": "SnqY2-kuIwrI",
        "outputId": "7850b67a-22c6-4b72-cc9e-48c243bb8ad4"
      },
      "execution_count": 12,
      "outputs": [
        {
          "output_type": "execute_result",
          "data": {
            "text/plain": [],
            "image/png": "[encoded data removed]"
          },
          "metadata": {},
          "execution_count": 12
        }
      ]
    },
    {
      "cell_type": "code",
      "source": [
        "# move part of width dimension to height.\n",
        "# we should call this width-to-height as image width shrunk by 2 and height doubled.\n",
        "rearrange(ims, \"b h (w w2) c -> (h w2) (b w) c\", w2=2)"
      ],
      "metadata": {
        "colab": {
          "base_uri": "https://localhost:8080/",
          "height": 113
        },
        "id": "AztymktJI0Xv",
        "outputId": "6591fa61-d9a2-4d82-d71e-a17397def050"
      },
      "execution_count": 13,
      "outputs": [
        {
          "output_type": "execute_result",
          "data": {
            "text/plain": [],
            "image/png": "[encoded data removed]"
          },
          "metadata": {},
          "execution_count": 13
        }
      ]
    },
    {
      "cell_type": "code",
      "source": [
        "# rule is just as for digits in the number: leftmost digit is the most significant,\n",
        "# while neighboring numbers differ in the rightmost axis.\n",
        "\n",
        "# you can also think of this as lexicographic sort\n",
        "rearrange(ims, \"b h w c -> h (w b) c\")"
      ],
      "metadata": {
        "colab": {
          "base_uri": "https://localhost:8080/",
          "height": 65
        },
        "id": "3i-R3qttI89a",
        "outputId": "93b45a4d-25fb-4625-e4b3-565b61a7b3c5"
      },
      "execution_count": 14,
      "outputs": [
        {
          "output_type": "execute_result",
          "data": {
            "text/plain": [],
            "image/png": "[encoded data removed]"
          },
          "metadata": {},
          "execution_count": 14
        }
      ]
    },
    {
      "cell_type": "code",
      "source": [
        "# what if b1 and b2 are reordered before composing to width?\n",
        "rearrange(ims, \"(b1 b2) h w c -> h (b1 b2 w) c \", b1=2)  # produces 'sarvam'\n",
        "rearrange(ims, \"(b1 b2) h w c -> h (b2 b1 w) c \", b1=2)  # produces 'svaarm'"
      ],
      "metadata": {
        "colab": {
          "base_uri": "https://localhost:8080/",
          "height": 65
        },
        "id": "iZzTwmhAJEGK",
        "outputId": "45e4fa7f-61ce-4aed-e627-4257e10a1a07"
      },
      "execution_count": 15,
      "outputs": [
        {
          "output_type": "execute_result",
          "data": {
            "text/plain": [],
            "image/png": "[encoded data removed]"
          },
          "metadata": {},
          "execution_count": 15
        }
      ]
    },
    {
      "cell_type": "code",
      "source": [
        "# interweaving pixels of different pictures\n",
        "# all letters are observable\n",
        "rearrange(ims, \"(b1 b2) h w c -> (h b1) (w b2) c \", b1=2)"
      ],
      "metadata": {
        "colab": {
          "base_uri": "https://localhost:8080/",
          "height": 113
        },
        "id": "1jQ2eMCfJMm-",
        "outputId": "61843ec7-ebb7-4e4d-d6d1-33f4bfd2a89f"
      },
      "execution_count": 16,
      "outputs": [
        {
          "output_type": "execute_result",
          "data": {
            "text/plain": [],
            "image/png": "[encoded data removed]"
          },
          "metadata": {},
          "execution_count": 16
        }
      ]
    },
    {
      "cell_type": "code",
      "source": [
        "# interweaving along vertical for couples of images\n",
        "rearrange(ims, \"(b1 b2) h w c -> (h b1) (b2 w) c\", b1=2)"
      ],
      "metadata": {
        "colab": {
          "base_uri": "https://localhost:8080/",
          "height": 113
        },
        "id": "A5WUMp7xJWur",
        "outputId": "b0273195-ffa3-4469-e8d0-125b6ab41d00"
      },
      "execution_count": 17,
      "outputs": [
        {
          "output_type": "execute_result",
          "data": {
            "text/plain": [],
            "image/png": "[encoded data removed]"
          },
          "metadata": {},
          "execution_count": 17
        }
      ]
    },
    {
      "cell_type": "code",
      "source": [
        "# split in small patches and transpose each patch\n",
        "rearrange(ims, \"b (h1 h2) (w1 w2) c -> (h1 w2) (b w1 h2) c\", h2=8, w2=8)"
      ],
      "metadata": {
        "colab": {
          "base_uri": "https://localhost:8080/",
          "height": 65
        },
        "id": "HsDkM3hSJf4F",
        "outputId": "827e9662-6acd-4240-bc3b-b1c041f0ef23"
      },
      "execution_count": 18,
      "outputs": [
        {
          "output_type": "execute_result",
          "data": {
            "text/plain": [],
            "image/png": "[encoded data removed]"
          },
          "metadata": {},
          "execution_count": 18
        }
      ]
    },
    {
      "cell_type": "code",
      "source": [
        "# stop me someone!\n",
        "rearrange(ims, \"b (h1 h2 h3) (w1 w2 w3) c -> (h1 w2 h3) (b w1 h2 w3) c\", h2=2, w2=2, w3=2, h3=2)"
      ],
      "metadata": {
        "colab": {
          "base_uri": "https://localhost:8080/",
          "height": 65
        },
        "id": "XSfh5gF-JYSG",
        "outputId": "b309b446-691d-45be-839e-ed6b4c53a21a"
      },
      "execution_count": 19,
      "outputs": [
        {
          "output_type": "execute_result",
          "data": {
            "text/plain": [],
            "image/png": "[encoded data removed]"
          },
          "metadata": {},
          "execution_count": 19
        }
      ]
    },
    {
      "cell_type": "code",
      "source": [
        "rearrange(ims, \"(b1 b2) (h1 h2) (w1 w2) c -> (h1 b1 h2) (w1 b2 w2) c\", h1=3, w1=3, b2=3)"
      ],
      "metadata": {
        "colab": {
          "base_uri": "https://localhost:8080/",
          "height": 113
        },
        "id": "_QIC5bQaJh3X",
        "outputId": "0de832e8-03c8-4d83-c16f-646fe25919c1"
      },
      "execution_count": 20,
      "outputs": [
        {
          "output_type": "execute_result",
          "data": {
            "text/plain": [],
            "image/png": "[encoded data removed]"
          },
          "metadata": {},
          "execution_count": 20
        }
      ]
    },
    {
      "cell_type": "code",
      "source": [
        "rearrange(ims, \"b h w c -> w (b h) c\")"
      ],
      "metadata": {
        "colab": {
          "base_uri": "https://localhost:8080/",
          "height": 65
        },
        "id": "diMiSnUBJje6",
        "outputId": "c2c97df2-611e-4f01-f081-649d320f50ac"
      },
      "execution_count": 21,
      "outputs": [
        {
          "output_type": "execute_result",
          "data": {
            "text/plain": [],
            "image/png": "[encoded data removed]"
          },
          "metadata": {},
          "execution_count": 21
        }
      ]
    },
    {
      "cell_type": "markdown",
      "source": [
        "#### Examples from the assignment doc\n"
      ],
      "metadata": {
        "id": "qOriliQ0QhOM"
      }
    },
    {
      "cell_type": "code",
      "source": [
        "# Transpose\n",
        "x = np.random.rand(3, 4)\n",
        "result = rearrange(x, 'h w -> w h')\n",
        "print(result)\n",
        "\n",
        "# Split an axis\n",
        "x = np.random.rand(12, 10)\n",
        "result = rearrange(x, '(h w) c -> h w c', h=3)\n",
        "print(result)\n",
        "\n",
        "# Merge axes\n",
        "x = np.random.rand(3, 4, 5)\n",
        "result = rearrange(x, 'a b c -> (a b) c')\n",
        "print(result)\n",
        "\n",
        "# Repeat an axis\n",
        "x = np.random.rand(3, 1, 5)\n",
        "result = rearrange(x, 'a 1 c -> a b c', b=4)\n",
        "print(result)\n",
        "\n",
        "# Handle batch dimensions\n",
        "x = np.random.rand(2, 3, 4, 5)\n",
        "result = rearrange(x, '... h w -> ... (h w)')\n",
        "print(result)\n",
        "\n"
      ],
      "metadata": {
        "colab": {
          "base_uri": "https://localhost:8080/"
        },
        "collapsed": true,
        "id": "MqMl-YnPQj-i",
        "outputId": "ed03188e-8bf1-47af-87be-08dcafd64ee3"
      },
      "execution_count": 38,
      "outputs": [
        {
          "output_type": "stream",
          "name": "stdout",
          "text": [
            "[[0.78477332 0.46205056 0.8734021 ]\n",
            " [0.01728646 0.76331741 0.19706538]\n",
            " [0.79833972 0.32136214 0.34468121]\n",
            " [0.03552783 0.46190837 0.84223047]]\n",
            "[[[0.86957445 0.36867029 0.75893299 0.86472403 0.5610739  0.34807304\n",
            "   0.42601357 0.73510869 0.74731945 0.18447276]\n",
            "  [0.24992654 0.93521262 0.91646865 0.04288773 0.49486322 0.03954669\n",
            "   0.94981541 0.2540327  0.35660802 0.64736503]\n",
            "  [0.49824821 0.91819312 0.7744673  0.76228539 0.5862326  0.65061609\n",
            "   0.3860052  0.84716942 0.87471704 0.6708572 ]\n",
            "  [0.93713441 0.83594899 0.84570562 0.61490792 0.01299968 0.11302827\n",
            "   0.1842591  0.04195999 0.06097325 0.74930088]]\n",
            "\n",
            " [[0.14253909 0.78880186 0.04886267 0.33901087 0.50704479 0.33819173\n",
            "   0.16992482 0.87715586 0.12484775 0.49906012]\n",
            "  [0.5410037  0.74140386 0.09676049 0.7698559  0.0952567  0.88416794\n",
            "   0.2255713  0.45634464 0.36062551 0.46686579]\n",
            "  [0.43157308 0.88627866 0.06218994 0.44741875 0.42300479 0.43531543\n",
            "   0.37798135 0.81030431 0.97412229 0.38703933]\n",
            "  [0.9202715  0.44146168 0.71340413 0.57746927 0.26524267 0.64283667\n",
            "   0.17939908 0.17279636 0.93832031 0.62333746]]\n",
            "\n",
            " [[0.21177842 0.92864134 0.27908648 0.11006548 0.48271194 0.07710487\n",
            "   0.22398448 0.71587934 0.55273751 0.05002642]\n",
            "  [0.40869459 0.22608391 0.13949396 0.32266499 0.88041609 0.86076927\n",
            "   0.43728469 0.86231604 0.68360741 0.9880209 ]\n",
            "  [0.17336593 0.17775363 0.15460409 0.80722073 0.56597975 0.55090646\n",
            "   0.57524679 0.10522064 0.93815472 0.55633572]\n",
            "  [0.05731846 0.83281747 0.81711634 0.1423126  0.95233518 0.76844058\n",
            "   0.46317654 0.70300381 0.16283484 0.40065216]]]\n",
            "[[0.4133759  0.4384836  0.19791594 0.64732938 0.05501891]\n",
            " [0.19777969 0.76372266 0.50851881 0.48588141 0.3379723 ]\n",
            " [0.2498257  0.73990563 0.47492126 0.07607428 0.7875057 ]\n",
            " [0.377177   0.50973387 0.48402777 0.57497768 0.18057027]\n",
            " [0.40763379 0.81818908 0.6709222  0.72726935 0.45705065]\n",
            " [0.57152565 0.82759552 0.26588453 0.62100013 0.17230641]\n",
            " [0.26611875 0.87897645 0.19031807 0.64613426 0.6320305 ]\n",
            " [0.55232798 0.24605615 0.39989125 0.17539221 0.64239088]\n",
            " [0.37084182 0.3764566  0.48464313 0.99084118 0.04876007]\n",
            " [0.54392454 0.17705007 0.90112138 0.64788657 0.06272844]\n",
            " [0.18926509 0.85049027 0.15884854 0.6805003  0.71130998]\n",
            " [0.37014007 0.59419554 0.74657147 0.62474856 0.3312081 ]]\n",
            "[[[0.32895113 0.50314322 0.68190404 0.62687913 0.95987727]\n",
            "  [0.32895113 0.50314322 0.68190404 0.62687913 0.95987727]\n",
            "  [0.32895113 0.50314322 0.68190404 0.62687913 0.95987727]\n",
            "  [0.32895113 0.50314322 0.68190404 0.62687913 0.95987727]]\n",
            "\n",
            " [[0.51445188 0.18328174 0.71257264 0.35239865 0.69536433]\n",
            "  [0.51445188 0.18328174 0.71257264 0.35239865 0.69536433]\n",
            "  [0.51445188 0.18328174 0.71257264 0.35239865 0.69536433]\n",
            "  [0.51445188 0.18328174 0.71257264 0.35239865 0.69536433]]\n",
            "\n",
            " [[0.73595367 0.11454755 0.85384472 0.33286984 0.20397993]\n",
            "  [0.73595367 0.11454755 0.85384472 0.33286984 0.20397993]\n",
            "  [0.73595367 0.11454755 0.85384472 0.33286984 0.20397993]\n",
            "  [0.73595367 0.11454755 0.85384472 0.33286984 0.20397993]]]\n",
            "[[[0.13714375 0.31331319 0.60887086 0.01280837 0.26131972 0.15514472\n",
            "   0.91420221 0.58053531 0.10578852 0.54808433 0.37383887 0.88026294\n",
            "   0.64606925 0.63689455 0.90386644 0.05771901 0.47700449 0.13650284\n",
            "   0.59381807 0.43803769]\n",
            "  [0.82051431 0.71648473 0.23016224 0.35947075 0.60553133 0.97609717\n",
            "   0.94156772 0.25050203 0.77830805 0.41101148 0.11979699 0.08004142\n",
            "   0.67611418 0.60790164 0.40722532 0.09710444 0.91282204 0.50101159\n",
            "   0.4359553  0.93937253]\n",
            "  [0.95802166 0.62033286 0.59039712 0.03113224 0.76641408 0.56056481\n",
            "   0.23104532 0.51472795 0.20752583 0.64183888 0.50081556 0.43509412\n",
            "   0.367889   0.08460893 0.29646308 0.16815542 0.38481818 0.39392054\n",
            "   0.33071093 0.098684  ]]\n",
            "\n",
            " [[0.98036959 0.89757786 0.9937554  0.04235704 0.64405444 0.29691765\n",
            "   0.06080091 0.88313596 0.0060819  0.60756161 0.25704858 0.89973553\n",
            "   0.60894017 0.51593051 0.8403137  0.6136285  0.63683374 0.59165354\n",
            "   0.57198698 0.91956805]\n",
            "  [0.12045823 0.74195782 0.87411008 0.89962155 0.14462229 0.94662039\n",
            "   0.89237209 0.29294344 0.30582878 0.54260027 0.78196537 0.94984299\n",
            "   0.47695449 0.31559118 0.5361188  0.66499135 0.4911324  0.75010483\n",
            "   0.82955475 0.86413001]\n",
            "  [0.3008435  0.5881143  0.41512476 0.33295468 0.93202206 0.01638162\n",
            "   0.42700585 0.90882606 0.892004   0.42879369 0.84739321 0.15100976\n",
            "   0.67251743 0.68461954 0.11637957 0.03415131 0.86491499 0.03070721\n",
            "   0.8061142  0.91306488]]]\n"
          ]
        }
      ]
    },
    {
      "cell_type": "markdown",
      "source": [
        "#### Advanced Examples"
      ],
      "metadata": {
        "id": "fF9O7CSjP7VU"
      }
    },
    {
      "cell_type": "code",
      "source": [
        "\n",
        "# Example 1: Image to Patches\n",
        "# Combine splitting (h->h ph, w->w pw) and merging/transposing (ph pw c)\n",
        "print(\"\\n--- 1. Image to Patches ---\")\n",
        "b, c, h, w = 2, 3, 12, 16 # Input: Batch, Channels, Height, Width\n",
        "ph, pw = 4, 4             # Patch size\n",
        "x_img = np.arange(b * c * h * w).reshape(b, c, h, w)\n",
        "print(f\"Input shape (b c h w): {x_img.shape}\")\n",
        "# Pattern: b c (h ph) (w pw) -> b (h w) (ph pw c)\n",
        "result_patches = rearrange(x_img, 'b c (h ph) (w pw) -> b (h w) (ph pw c)', ph=ph, pw=pw)\n",
        "print(f\"Pattern: 'b c (h ph) (w pw) -> b (h w) (ph pw c)', ph={ph}, pw={pw}\")\n",
        "print(f\"Output shape (b num_patches patch_data): {result_patches.shape}\") # Expected: (2, 12, 48)\n",
        "\n",
        "\n",
        "# Example 2: Space to Depth\n",
        "# Move parts of spatial dimensions (h, w) into the channel dimension\n",
        "print(\"\\n--- 2. Space to Depth ---\")\n",
        "b, c, h, w = 4, 1, 8, 8 # Input: Batch, Channels, Height, Width\n",
        "scale = 2\n",
        "x_s2d = np.arange(b * c * h * w).reshape(b, c, h, w)\n",
        "print(f\"Input shape (b c h w): {x_s2d.shape}\")\n",
        "# Pattern: b c (h s1) (w s2) -> b (c s1 s2) h w\n",
        "result_s2d = rearrange(x_s2d, 'b c (h s1) (w s2) -> b (c s1 s2) h w', s1=scale, s2=scale)\n",
        "print(f\"Pattern: 'b c (h s1) (w s2) -> b (c s1 s2) h w', s1={scale}, s2={scale}\")\n",
        "print(f\"Output shape (b new_c new_h new_w): {result_s2d.shape}\") # Expected: (4, 4, 4, 4)\n",
        "\n",
        "\n",
        "# Example 3: Combine Batch and Head dims (like in Attention) + Transpose\n",
        "print(\"\\n--- 3. Combine Batch/Head & Transpose ---\")\n",
        "b, l, h, d = 4, 10, 8, 16 # Input: Batch, Sequence Length, Heads, Dimension per Head\n",
        "x_attn = np.arange(b * l * h * d).reshape(b, l, h, d)\n",
        "print(f\"Input shape (b l h d): {x_attn.shape}\")\n",
        "# Pattern: Combine b and h, keep l, keep d -> (b h) l d\n",
        "result_attn = rearrange(x_attn, 'b l h d -> (b h) l d')\n",
        "print(f\"Pattern: 'b l h d -> (b h) l d'\")\n",
        "print(f\"Output shape ((b h) l d): {result_attn.shape}\") # Expected: (32, 10, 16)\n",
        "\n",
        "\n",
        "# Example 5: Introduce and Remove '1' dims with Transposition\n",
        "print(\"\\n--- 5. Introduce/Remove '1' Dims & Transpose ---\")\n",
        "a, b_dim, c = 3, 4, 5 # Input: A, B, C\n",
        "x_ones = np.arange(a * b_dim * c).reshape(a, b_dim, c)\n",
        "print(f\"Input shape (a b c): {x_ones.shape}\")\n",
        "# Pattern: Add a '1' dim, transpose 'a' and 'c', merge 'b' and the new '1'\n",
        "result_ones = rearrange(x_ones, 'a b c -> c (b 1) a')\n",
        "print(f\"Pattern: 'a b c -> c (b 1) a'\")\n",
        "print(f\"Output shape (c (b 1) a): {result_ones.shape}\") # Expected: (5, 4, 3)\n",
        "\n"
      ],
      "metadata": {
        "colab": {
          "base_uri": "https://localhost:8080/"
        },
        "id": "lnpfQzs0RMyZ",
        "outputId": "deda994b-2a62-4d6c-efa3-3ce75ef05ea4"
      },
      "execution_count": 41,
      "outputs": [
        {
          "output_type": "stream",
          "name": "stdout",
          "text": [
            "\n",
            "--- 1. Image to Patches ---\n",
            "Input shape (b c h w): (2, 3, 12, 16)\n",
            "Pattern: 'b c (h ph) (w pw) -> b (h w) (ph pw c)', ph=4, pw=4\n",
            "Output shape (b num_patches patch_data): (2, 12, 48)\n",
            "\n",
            "--- 2. Space to Depth ---\n",
            "Input shape (b c h w): (4, 1, 8, 8)\n",
            "Pattern: 'b c (h s1) (w s2) -> b (c s1 s2) h w', s1=2, s2=2\n",
            "Output shape (b new_c new_h new_w): (4, 4, 4, 4)\n",
            "\n",
            "--- 3. Combine Batch/Head & Transpose ---\n",
            "Input shape (b l h d): (4, 10, 8, 16)\n",
            "Pattern: 'b l h d -> (b h) l d'\n",
            "Output shape ((b h) l d): (32, 10, 16)\n",
            "\n",
            "--- 5. Introduce/Remove '1' Dims & Transpose ---\n",
            "Input shape (a b c): (3, 4, 5)\n",
            "Pattern: 'a b c -> c (b 1) a'\n",
            "Output shape (c (b 1) a): (5, 4, 3)\n"
          ]
        }
      ]
    },
    {
      "cell_type": "code",
      "source": [
        "\n",
        "\n",
        "# Transpose\n",
        "print(\"--- Transpose ---\")\n",
        "x_t = np.random.rand(3, 4)\n",
        "result_t = rearrange(x_t, 'h w -> w h')\n",
        "print(f\"Input shape: {x_t.shape}, Pattern: 'h w -> w h'\")\n",
        "# Expected result shape: (4, 3)\n",
        "\n",
        "# Split an axis\n",
        "print(\"\\n--- Split Axis ---\")\n",
        "x_s = np.random.rand(12, 10)\n",
        "result_s = rearrange(x_s, '(h w) c -> h w c', h=3)\n",
        "print(f\"Input shape: {x_s.shape}, Pattern: '(h w) c -> h w c', h=3\")\n",
        "# Expected result shape: (3, 4, 10)\n",
        "\n",
        "# Merge axes\n",
        "print(\"\\n--- Merge Axes ---\")\n",
        "x_m = np.random.rand(3, 4, 5)\n",
        "result_m = rearrange(x_m, 'a b c -> (a b) c')\n",
        "print(f\"Input shape: {x_m.shape}, Pattern: 'a b c -> (a b) c'\")\n",
        "# Expected result shape: (12, 5)\n",
        "\n",
        "# Repeat an axis (using named axis length)\n",
        "print(\"\\n--- Repeat Axis (Named) ---\")\n",
        "x_r_named = np.random.rand(3, 1, 5)\n",
        "result_r_named = rearrange(x_r_named, 'a 1 c -> a b c', b=4)\n",
        "print(f\"Input shape: {x_r_named.shape}, Pattern: 'a 1 c -> a b c', b=4\")\n",
        "# Expected result shape: (3, 4, 5)\n",
        "\n",
        "# Repeat an axis (using numeric literal)\n",
        "print(\"\\n--- Repeat Axis (Numeric) ---\")\n",
        "x_r_num = np.random.rand(3, 5)\n",
        "result_r_num = rearrange(x_r_num, 'a c -> a 4 c')\n",
        "print(f\"Input shape: {x_r_num.shape}, Pattern: 'a c -> a 4 c'\")\n",
        "# Expected result shape: (3, 4, 5)\n",
        "\n",
        "# Handle batch dimensions (...)\n",
        "print(\"\\n--- Ellipsis ---\")\n",
        "x_e = np.random.rand(2, 3, 4, 5)\n",
        "result_e = rearrange(x_e, '... h w -> ... (h w)')\n",
        "print(f\"Input shape: {x_e.shape}, Pattern: '... h w -> ... (h w)'\")\n",
        "# Expected result shape: (2, 3, 20)"
      ],
      "metadata": {
        "colab": {
          "base_uri": "https://localhost:8080/"
        },
        "id": "PPLwuMXPPO4b",
        "outputId": "eedc5eef-d140-47fb-fea3-3b5dec616255"
      },
      "execution_count": 42,
      "outputs": [
        {
          "output_type": "stream",
          "name": "stdout",
          "text": [
            "--- Transpose ---\n",
            "Input shape: (3, 4), Pattern: 'h w -> w h'\n",
            "\n",
            "--- Split Axis ---\n",
            "Input shape: (12, 10), Pattern: '(h w) c -> h w c', h=3\n",
            "\n",
            "--- Merge Axes ---\n",
            "Input shape: (3, 4, 5), Pattern: 'a b c -> (a b) c'\n",
            "\n",
            "--- Repeat Axis (Named) ---\n",
            "Input shape: (3, 1, 5), Pattern: 'a 1 c -> a b c', b=4\n",
            "\n",
            "--- Repeat Axis (Numeric) ---\n",
            "Input shape: (3, 5), Pattern: 'a c -> a 4 c'\n",
            "\n",
            "--- Ellipsis ---\n",
            "Input shape: (2, 3, 4, 5), Pattern: '... h w -> ... (h w)'\n"
          ]
        }
      ]
    },
    {
      "cell_type": "markdown",
      "source": [
        "#### More Examples"
      ],
      "metadata": {
        "id": "biLjRRSoKibO"
      }
    },
    {
      "cell_type": "code",
      "source": [
        "### Examples\n",
        "\n",
        "# Add and repeat a new axis\n",
        "print(\"\\n--- Add and repeat a new axis ---\")\n",
        "image_hw = np.arange(6).reshape(2, 3)\n",
        "result_add_repeat = rearrange(image_hw, 'h w -> h w 3')\n",
        "print(f\"Input shape: {image_hw.shape}, Pattern: 'h w -> h w 3'\")\n",
        "# Expected result shape: (2, 3, 3)\n",
        "\n",
        "# Upsample width and merge\n",
        "print(\"\\n--- Upsample width and merge ---\")\n",
        "result_upsample_merge = rearrange(ims, 'b h w c -> b (2 h) (2 w) c')\n",
        "print(f\"Input shape: {ims.shape}, Pattern: 'b h w c -> b (2 h) (2 w) c'\")\n",
        "# Expected result shape: (5, 96, 96, 3)\n",
        "\n",
        "# Upsample width and merge (alternative)\n",
        "print(\"\\n--- Upsample width and merge (alternative) ---\")\n",
        "result_upsample_merge_alt = rearrange(ims, 'b h w c -> b h (w 2) c')\n",
        "print(f\"Input shape: {ims.shape}, Pattern: 'b h w c -> b h (w 2) c'\")\n",
        "# Expected result shape: (5, 48, 96, 3)\n",
        "\n",
        "# Repeat with Ellipsis\n",
        "print(\"\\n--- Repeat with Ellipsis ---\")\n",
        "result_repeat_ellipsis = rearrange(ims, '... h w -> ... (2 h) (2 w)')\n",
        "print(f\"Input shape: {ims.shape}, Pattern: '... h w -> ... (2 h) (2 w)'\")\n",
        "# Expected result shape: (5, 96, 96, 3)\n",
        "\n",
        "# Repeat with Ellipsis again\n",
        "print(\"\\n--- Repeat with Ellipsis again ---\")\n",
        "result_repeat_ellipsis_again = rearrange(ims, 'b ... c -> b 4 ... c')\n",
        "print(f\"Input shape: {ims.shape}, Pattern: 'b ... c -> b 4 ... c'\")\n",
        "# Expected result shape: (5, 4, 48, 48, 3)\n",
        "\n",
        "# Repeat an axis (using named axis length) - Example 2\n",
        "print(\"\\n--- Repeat Axis (Named) ---\")\n",
        "x_named = np.random.rand(3, 1, 5)\n",
        "result_named = rearrange(x_named, 'a 1 c -> a b c', b=4)\n",
        "print(f\"Input shape: {x_named.shape}, Pattern: 'a 1 c -> a b c', b=4\")\n",
        "# Expected result shape: (3, 4, 5)\n",
        "\n",
        "# Merge axes - Example 3\n",
        "print(\"\\n--- Merge Axes ---\")\n",
        "x_merge = np.random.rand(2, 3, 4, 5)\n",
        "result_merge = rearrange(x_merge, '... h w -> ... (h w)')\n",
        "print(f\"Input shape: {x_merge.shape}, Pattern: '... h w -> ... (h w)'\")\n",
        "# Expected result shape: (2, 3, 20)"
      ],
      "metadata": {
        "colab": {
          "base_uri": "https://localhost:8080/"
        },
        "id": "RKWfrleLJmd7",
        "outputId": "ad9661e5-f6cf-42b0-9e3c-cd51109101b3"
      },
      "execution_count": 43,
      "outputs": [
        {
          "output_type": "stream",
          "name": "stdout",
          "text": [
            "\n",
            "--- Add and repeat a new axis ---\n",
            "Input shape: (2, 3), Pattern: 'h w -> h w 3'\n",
            "\n",
            "--- Upsample width and merge ---\n",
            "Input shape: (6, 48, 48, 3), Pattern: 'b h w c -> b (2 h) (2 w) c'\n",
            "\n",
            "--- Upsample width and merge (alternative) ---\n",
            "Input shape: (6, 48, 48, 3), Pattern: 'b h w c -> b h (w 2) c'\n",
            "\n",
            "--- Repeat with Ellipsis ---\n",
            "Input shape: (6, 48, 48, 3), Pattern: '... h w -> ... (2 h) (2 w)'\n",
            "\n",
            "--- Repeat with Ellipsis again ---\n",
            "Input shape: (6, 48, 48, 3), Pattern: 'b ... c -> b 4 ... c'\n",
            "\n",
            "--- Repeat Axis (Named) ---\n",
            "Input shape: (3, 1, 5), Pattern: 'a 1 c -> a b c', b=4\n",
            "\n",
            "--- Merge Axes ---\n",
            "Input shape: (2, 3, 4, 5), Pattern: '... h w -> ... (h w)'\n"
          ]
        }
      ]
    },
    {
      "cell_type": "markdown",
      "source": [
        "--------------------------------------------------------------------------------\n",
        "More test cases can be run via pytest using my test_einops.py file in the github\n",
        "To run the test cases, first install pytest using\n",
        "```bash\n",
        "pip install pytest\n",
        "```\n",
        "Then in the project directory, open a command line and run ```pytest```\n",
        "\n",
        "For any doubts, please feel free to contact me via email\n",
        "Email - harshwardhanfartale.nith@gmail.com\n"
      ],
      "metadata": {
        "id": "D0CiLwPaLyt5"
      }
    }
  ]
}