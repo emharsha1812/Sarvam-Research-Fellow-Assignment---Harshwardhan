{
 "cells": [
  {
   "cell_type": "code",
   "execution_count": 1,
   "id": "55c1d4fe",
   "metadata": {},
   "outputs": [],
   "source": [
    "import numpy as np\n",
    "from test_o1_einops import rearrange, EinopsError"
   ]
  },
  {
   "cell_type": "code",
   "execution_count": 13,
   "id": "2adb630e",
   "metadata": {},
   "outputs": [
    {
     "name": "stdout",
     "output_type": "stream",
     "text": [
      "\n",
      "--- Checking actual error for 'test_shape_rank_mismatch_pattern_longer' ---\n",
      "Caught EinopsError: EinopsError(\"Rank mismatch: Pattern 'a b c' has more axes than input tensor rank 2\")\n"
     ]
    }
   ],
   "source": [
    "print(\"\\n--- Checking actual error for 'test_shape_rank_mismatch_pattern_longer' ---\")\n",
    "try:\n",
    "    rearrange(np.arange(20).reshape(5, 4), 'a b c -> a b c')\n",
    "except EinopsError as e:\n",
    "    print(\"Caught EinopsError:\", repr(e))"
   ]
  },
  {
   "cell_type": "code",
   "execution_count": 14,
   "id": "dd57c5b1",
   "metadata": {},
   "outputs": [
    {
     "name": "stdout",
     "output_type": "stream",
     "text": [
      "\n",
      "--- Checking actual error for 'test_repeat_named_axis' ---\n",
      "Caught EinopsError: EinopsError(\"Axes {'rpt'} appear on RHS but not LHS\")\n"
     ]
    }
   ],
   "source": [
    "print(\"\\n--- Checking actual error for 'test_repeat_named_axis' ---\")\n",
    "try:\n",
    "    tensor = np.array([[1, 2], [3, 4]])\n",
    "    rearrange(tensor, 'a b -> a rpt b', rpt=2)\n",
    "except EinopsError as e:\n",
    "    print(\"Caught EinopsError:\", repr(e))"
   ]
  },
  {
   "cell_type": "code",
   "execution_count": 8,
   "id": "abbf634b",
   "metadata": {},
   "outputs": [
    {
     "name": "stdout",
     "output_type": "stream",
     "text": [
      "\n",
      "--- Checking actual error for 'test_repeat_user_case_squeeze_and_repeat' ---\n",
      "Caught EinopsError: EinopsError(\"Axes {'b'} appear on RHS but not LHS\")\n"
     ]
    }
   ],
   "source": [
    "print(\"\\n--- Checking actual error for 'test_repeat_user_case_squeeze_and_repeat' ---\")\n",
    "try:\n",
    "    tensor = np.random.rand(3, 1, 5)\n",
    "    rearrange(tensor, 'a 1 c -> a b c', b=4)\n",
    "except EinopsError as e:\n",
    "    print(\"Caught EinopsError:\", repr(e))"
   ]
  },
  {
   "cell_type": "code",
   "execution_count": 5,
   "id": "80c256fa",
   "metadata": {},
   "outputs": [],
   "source": [
    "def show_actual_error_messages():\n",
    "    print(\"\\n--- Checking actual error for 'test_unknown_axis_rhs_no_length' ---\")\n",
    "    try:\n",
    "        rearrange(np.zeros((2,3)), 'a b -> a c')\n",
    "    except EinopsError as e:\n",
    "        print(\"Caught EinopsError:\", repr(e))\n",
    "\n",
    "    print(\"\\n--- Checking actual error for 'test_shape_rank_mismatch_pattern_longer' ---\")\n",
    "    try:\n",
    "        rearrange(np.arange(10).reshape(5, 2), 'a b c -> a b c')\n",
    "    except EinopsError as e:\n",
    "        print(\"Caught EinopsError:\", repr(e))\n",
    "\n",
    "    print(\"\\n--- Checking actual error for 'test_repeat_named_axis' ---\")\n",
    "    try:\n",
    "        tensor = np.array([[1, 2], [3, 4]])\n",
    "        rearrange(tensor, 'a b -> a rpt b', rpt=2)\n",
    "    except EinopsError as e:\n",
    "        print(\"Caught EinopsError:\", repr(e))\n",
    "\n",
    "    print(\"\\n--- Checking actual error for 'test_repeat_user_case_squeeze_and_repeat' ---\")\n",
    "    try:\n",
    "        tensor = np.random.rand(3, 1, 5)\n",
    "        rearrange(tensor, 'a 1 c -> a b c', b=4)\n",
    "    except EinopsError as e:\n",
    "        print(\"Caught EinopsError:\", repr(e))\n",
    "\n",
    "# Uncomment this if you want pytest to run it automatically, or just call it manually\n",
    "# def test_print_error_messages():\n",
    "#     show_actual_error_messages()"
   ]
  },
  {
   "cell_type": "code",
   "execution_count": null,
   "id": "598d30a6",
   "metadata": {},
   "outputs": [],
   "source": []
  }
 ],
 "metadata": {
  "kernelspec": {
   "display_name": "einops",
   "language": "python",
   "name": "python3"
  },
  "language_info": {
   "codemirror_mode": {
    "name": "ipython",
    "version": 3
   },
   "file_extension": ".py",
   "mimetype": "text/x-python",
   "name": "python",
   "nbconvert_exporter": "python",
   "pygments_lexer": "ipython3",
   "version": "3.10.11"
  }
 },
 "nbformat": 4,
 "nbformat_minor": 5
}
