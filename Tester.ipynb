{
 "cells": [
  {
   "cell_type": "code",
   "execution_count": 1,
   "id": "6414cdfc",
   "metadata": {},
   "outputs": [],
   "source": [
    "import numpy as np\n",
    "from einops_testing import rearrange, EinopsError"
   ]
  },
  {
   "cell_type": "code",
   "execution_count": 2,
   "id": "ce877158",
   "metadata": {},
   "outputs": [
    {
     "name": "stdout",
     "output_type": "stream",
     "text": [
      "\n",
      "--- Checking actual error for 'test_non_unitary_anonymous_lhs_composition' ---\n",
      "\n",
      "--- Parsing Pattern ---\n",
      "Input pattern: '(a 2)-> a', shape: (2, 3), axes_lengths: {}\n",
      "Parsed LHS: ParsedExpressionData(raw_axes=[['a', '2']], identifiers={'a'}, has_ellipsis=False, has_composition=True, has_anonymous_axes=True, has_trivial_anonymous_axis=False)\n",
      "Parsed RHS: ParsedExpressionData(raw_axes=['a'], identifiers={'a'}, has_ellipsis=False, has_composition=False, has_anonymous_axes=False, has_trivial_anonymous_axis=False)\n",
      "DEBUG: Processing LHS...\n",
      "  LHS group: '['a', '2']'\n",
      "    Matches shape dim 0 (size 2)\n",
      "    Processing LHS composition: ['a', '2']\n",
      "Caught EinopsError: EinopsError('Numeric literal 2 > 1 not allowed in LHS composition')\n"
     ]
    }
   ],
   "source": [
    "print(\"\\n--- Checking actual error for 'test_non_unitary_anonymous_lhs_composition' ---\")\n",
    "try:\n",
    "    tensor = np.zeros((2,3))\n",
    "    # Using the rearrange function from the 'einops_full_debug_code' Canvas\n",
    "    rearrange(np.zeros((2,3)), '(a 2)-> a')\n",
    "except EinopsError as e:\n",
    "    print(\"Caught EinopsError:\", repr(e))\n",
    "except Exception as e: # Catch other potential errors too\n",
    "    print(\"Caught other Exception:\", repr(e))"
   ]
  },
  {
   "cell_type": "code",
   "execution_count": 2,
   "id": "f1cb6f89",
   "metadata": {},
   "outputs": [
    {
     "name": "stdout",
     "output_type": "stream",
     "text": [
      "\n",
      "--- Checking actual error for 'test_repeat_user_case_squeeze_and_repeat' ---\n",
      "\n",
      "--- Parsing Pattern ---\n",
      "Input pattern: 'a 1 c -> a b c', shape: (3, 1, 5), axes_lengths: {'b': 4}\n",
      "Parsed LHS: ParsedExpressionData(raw_axes=['a', '1', 'c'], identifiers={'c', 'a'}, has_ellipsis=False, has_composition=False, has_anonymous_axes=False, has_trivial_anonymous_axis=True)\n",
      "Parsed RHS: ParsedExpressionData(raw_axes=['a', 'b', 'c'], identifiers={'b', 'c', 'a'}, has_ellipsis=False, has_composition=False, has_anonymous_axes=False, has_trivial_anonymous_axis=False)\n",
      "DEBUG: Processing LHS...\n",
      "  LHS group: 'a'\n",
      "    Matches shape dim 0 (size 3)\n",
      "      Resolved LHS axis 'a' length: 3. Added to decomposed list.\n",
      "  LHS group: '1'\n",
      "    Matches shape dim 1 (size 1)\n",
      "      LHS axis '1' matched dim size 1. Not added to decomposed list.\n",
      "  LHS group: 'c'\n",
      "    Matches shape dim 2 (size 5)\n",
      "      Resolved LHS axis 'c' length: 5. Added to decomposed list.\n",
      "Finished LHS processing. Decomposed LHS axes: ['a', 'c']\n",
      "Resolved axis lengths after LHS: {'b': 4, 'a': 3, 'c': 5}\n",
      "Generated LHS set for validation: {'c', 'a'}\n",
      "DEBUG: Processing RHS...\n",
      "  RHS group: 'a'\n",
      "      Processing named RHS axis: 'a'\n",
      "        Axis 'a' is from LHS. Length: 3\n",
      "  RHS group: 'b'\n",
      "      Processing named RHS axis: 'b'\n",
      "        Axis 'b' is NEW named repeat. Length: 4. Updated repeat_axes_info: {'b': 4}\n",
      "  RHS group: 'c'\n",
      "      Processing named RHS axis: 'c'\n",
      "        Axis 'c' is from LHS. Length: 5\n",
      "Finished RHS processing.\n",
      "  Decomposed RHS axes final: ['a', 'b', 'c']\n",
      "  Final shape list: [3, 4, 5]\n",
      "  Repeat axes info: {'b': 4}\n",
      "  Resolved axes lengths after RHS: {'b': 4, 'a': 3, 'c': 5}\n",
      "DEBUG: Performing final validation checks...\n",
      "  Validation - LHS set: {'c', 'a'}\n",
      "  Validation - RHS atomic set: {'b', 'c', 'a'}\n",
      "  Validation - Repeat set (keys): {'b'}\n",
      "  Validation - Extra on RHS (RHS - LHS): {'b'}\n",
      "  Validation - Missing on RHS (LHS - RHS): set()\n",
      "DEBUG: Final validation checks passed.\n",
      "DEBUG Transpose Check: Source order: ['a', 'c'], Target order: ['a', 'c']\n",
      "--- Parsing Finished Successfully ---\n",
      "Generated Plan: ParsedPattern(lhs_expression=ParsedExpressionData(raw_axes=['a', '1', 'c'], identifiers={'c', 'a'}, has_ellipsis=False, has_composition=False, has_anonymous_axes=False, has_trivial_anonymous_axis=True), decomposed_lhs_axes=['a', 'c'], rhs_expression=ParsedExpressionData(raw_axes=['a', 'b', 'c'], identifiers={'b', 'c', 'a'}, has_ellipsis=False, has_composition=False, has_anonymous_axes=False, has_trivial_anonymous_axis=False), decomposed_rhs_axes_final=['a', 'b', 'c'], resolved_axes_lengths={'b': 4, 'a': 3, 'c': 5}, repeat_axes_info={'b': 4}, needs_reshaping_input=True, needs_repeating=True, needs_transposing=False, needs_reshaping_output=False, shape_after_lhs_reshape=(3, 5), transpose_indices=(), final_shape=(3, 4, 5))\n",
      "\n",
      "--- Executing Rearrangement ---\n",
      "Input tensor shape: (3, 1, 5)\n",
      "Plan: ParsedPattern(lhs_expression=ParsedExpressionData(raw_axes=['a', '1', 'c'], identifiers={'c', 'a'}, has_ellipsis=False, has_composition=False, has_anonymous_axes=False, has_trivial_anonymous_axis=True), decomposed_lhs_axes=['a', 'c'], rhs_expression=ParsedExpressionData(raw_axes=['a', 'b', 'c'], identifiers={'b', 'c', 'a'}, has_ellipsis=False, has_composition=False, has_anonymous_axes=False, has_trivial_anonymous_axis=False), decomposed_rhs_axes_final=['a', 'b', 'c'], resolved_axes_lengths={'b': 4, 'a': 3, 'c': 5}, repeat_axes_info={'b': 4}, needs_reshaping_input=True, needs_repeating=True, needs_transposing=False, needs_reshaping_output=False, shape_after_lhs_reshape=(3, 5), transpose_indices=(), final_shape=(3, 4, 5))\n",
      "Step 1: Initial Reshape Needed. Target shape: (3, 5)\n",
      "After initial reshape, shape: (3, 5)\n",
      "Step 2: Transpose NOT Needed.\n",
      "Step 3: Axis Insertion/Repeat Needed? True\n",
      "   Insert locations calculated: [(1, 'b')]\n",
      "   Starting expand_dims loop. Initial shape: (3, 5)\n",
      "      Expanding dim for axis 'b' at index 1. Current shape: (3, 5)\n",
      "      Shape after expand_dims: (3, 1, 5)\n",
      "   Shape after all expand_dims: (3, 1, 5)\n",
      "   Starting repeat loop. Initial shape: (3, 1, 5)\n",
      "      Repeating axis 'b' at index 1 by 4. Current shape: (3, 1, 5)\n",
      "      Shape after repeat: (3, 4, 5)\n",
      "   Shape after all repeats: (3, 4, 5)\n",
      "Step 4: Final Reshape Needed? False (RHS composition: False, Shape mismatch: False)\n",
      "   Current shape: (3, 4, 5), Target final shape: (3, 4, 5)\n",
      "Step 4: Final Reshape NOT Needed.\n",
      "--- Execution Finished Successfully. Final shape: (3, 4, 5) ---\n"
     ]
    }
   ],
   "source": [
    "print(\"\\n--- Checking actual error for 'test_repeat_user_case_squeeze_and_repeat' ---\")\n",
    "try:\n",
    "    tensor = np.random.rand(3, 1, 5)\n",
    "    # Using the rearrange function from the 'einops_full_debug_code' Canvas\n",
    "    rearrange(tensor, 'a 1 c -> a b c', b=4)\n",
    "except EinopsError as e:\n",
    "    print(\"Caught EinopsError:\", repr(e))\n",
    "except Exception as e: # Catch other potential errors too\n",
    "    print(\"Caught other Exception:\", repr(e))"
   ]
  },
  {
   "cell_type": "code",
   "execution_count": 3,
   "id": "b388561b",
   "metadata": {},
   "outputs": [
    {
     "name": "stdout",
     "output_type": "stream",
     "text": [
      "\n",
      "--- Checking actual error for 'test_repeat_user_case_squeeze_and_repeat' ---\n",
      "\n",
      "--- Parsing Pattern ---\n",
      "Input pattern: 'a 1 c -> a b c', shape: (3, 1, 5), axes_lengths: {'b': 4}\n",
      "Parsed LHS: ParsedExpressionData(raw_axes=['a', '1', 'c'], identifiers={'c', 'a'}, has_ellipsis=False, has_composition=False, has_anonymous_axes=False, has_trivial_anonymous_axis=True)\n",
      "Parsed RHS: ParsedExpressionData(raw_axes=['a', 'b', 'c'], identifiers={'b', 'c', 'a'}, has_ellipsis=False, has_composition=False, has_anonymous_axes=False, has_trivial_anonymous_axis=False)\n",
      "DEBUG: Processing LHS...\n",
      "  LHS group: 'a'\n",
      "    Matches shape dim 0 (size 3)\n",
      "      Resolved LHS axis 'a' length: 3. Added to decomposed list.\n",
      "  LHS group: '1'\n",
      "    Matches shape dim 1 (size 1)\n",
      "      LHS axis '1' matched dim size 1. Not added to decomposed list.\n",
      "  LHS group: 'c'\n",
      "    Matches shape dim 2 (size 5)\n",
      "      Resolved LHS axis 'c' length: 5. Added to decomposed list.\n",
      "Finished LHS processing. Decomposed LHS axes: ['a', 'c']\n",
      "Resolved axis lengths after LHS: {'b': 4, 'a': 3, 'c': 5}\n",
      "Generated LHS set for validation: {'c', 'a'}\n",
      "DEBUG: Processing RHS...\n",
      "  RHS group: 'a'\n",
      "      Processing named RHS axis: 'a'\n",
      "        Axis 'a' is from LHS. Length: 3\n",
      "  RHS group: 'b'\n",
      "      Processing named RHS axis: 'b'\n",
      "        Axis 'b' is NEW named repeat. Length: 4. Updated repeat_axes_info: {'b': 4}\n",
      "  RHS group: 'c'\n",
      "      Processing named RHS axis: 'c'\n",
      "        Axis 'c' is from LHS. Length: 5\n",
      "Finished RHS processing.\n",
      "  Decomposed RHS axes final: ['a', 'b', 'c']\n",
      "  Final shape list: [3, 4, 5]\n",
      "  Repeat axes info: {'b': 4}\n",
      "  Resolved axes lengths after RHS: {'b': 4, 'a': 3, 'c': 5}\n",
      "DEBUG: Performing final validation checks...\n",
      "  Validation - LHS set: {'c', 'a'}\n",
      "  Validation - RHS atomic set: {'b', 'c', 'a'}\n",
      "  Validation - Repeat set (keys): {'b'}\n",
      "  Validation - Extra on RHS (RHS - LHS): {'b'}\n",
      "  Validation - Missing on RHS (LHS - RHS): set()\n",
      "DEBUG: Final validation checks passed.\n",
      "DEBUG Transpose Check: Source order: ['a', 'c'], Target order: ['a', 'c']\n",
      "--- Parsing Finished Successfully ---\n",
      "Generated Plan: ParsedPattern(lhs_expression=ParsedExpressionData(raw_axes=['a', '1', 'c'], identifiers={'c', 'a'}, has_ellipsis=False, has_composition=False, has_anonymous_axes=False, has_trivial_anonymous_axis=True), decomposed_lhs_axes=['a', 'c'], rhs_expression=ParsedExpressionData(raw_axes=['a', 'b', 'c'], identifiers={'b', 'c', 'a'}, has_ellipsis=False, has_composition=False, has_anonymous_axes=False, has_trivial_anonymous_axis=False), decomposed_rhs_axes_final=['a', 'b', 'c'], resolved_axes_lengths={'b': 4, 'a': 3, 'c': 5}, repeat_axes_info={'b': 4}, needs_reshaping_input=True, needs_repeating=True, needs_transposing=False, needs_reshaping_output=False, shape_after_lhs_reshape=(3, 5), transpose_indices=(), final_shape=(3, 4, 5))\n",
      "\n",
      "--- Executing Rearrangement ---\n",
      "Input tensor shape: (3, 1, 5)\n",
      "Plan: ParsedPattern(lhs_expression=ParsedExpressionData(raw_axes=['a', '1', 'c'], identifiers={'c', 'a'}, has_ellipsis=False, has_composition=False, has_anonymous_axes=False, has_trivial_anonymous_axis=True), decomposed_lhs_axes=['a', 'c'], rhs_expression=ParsedExpressionData(raw_axes=['a', 'b', 'c'], identifiers={'b', 'c', 'a'}, has_ellipsis=False, has_composition=False, has_anonymous_axes=False, has_trivial_anonymous_axis=False), decomposed_rhs_axes_final=['a', 'b', 'c'], resolved_axes_lengths={'b': 4, 'a': 3, 'c': 5}, repeat_axes_info={'b': 4}, needs_reshaping_input=True, needs_repeating=True, needs_transposing=False, needs_reshaping_output=False, shape_after_lhs_reshape=(3, 5), transpose_indices=(), final_shape=(3, 4, 5))\n",
      "Step 1: Initial Reshape Needed. Target shape: (3, 5)\n",
      "After initial reshape, shape: (3, 5)\n",
      "Step 2: Transpose NOT Needed.\n",
      "Step 3: Axis Insertion/Repeat Needed? True\n",
      "   Insert locations calculated: [(1, 'b')]\n",
      "   Starting expand_dims loop. Initial shape: (3, 5)\n",
      "      Expanding dim for axis 'b' at index 1. Current shape: (3, 5)\n",
      "      Shape after expand_dims: (3, 1, 5)\n",
      "   Shape after all expand_dims: (3, 1, 5)\n",
      "   Starting repeat loop. Initial shape: (3, 1, 5)\n",
      "      Repeating axis 'b' at index 1 by 4. Current shape: (3, 1, 5)\n",
      "      Shape after repeat: (3, 4, 5)\n",
      "   Shape after all repeats: (3, 4, 5)\n",
      "Step 4: Final Reshape Needed? False (RHS composition: False, Shape mismatch: False)\n",
      "   Current shape: (3, 4, 5), Target final shape: (3, 4, 5)\n",
      "Step 4: Final Reshape NOT Needed.\n",
      "--- Execution Finished Successfully. Final shape: (3, 4, 5) ---\n"
     ]
    }
   ],
   "source": [
    "print(\"\\n--- Checking actual error for 'test_repeat_user_case_squeeze_and_repeat' ---\")\n",
    "try:\n",
    "    tensor = np.random.rand(3, 1, 5)\n",
    "    rearrange(tensor, 'a 1 c -> a b c', b=4)\n",
    "except EinopsError as e:\n",
    "    print(\"Caught EinopsError:\", repr(e))"
   ]
  },
  {
   "cell_type": "code",
   "execution_count": 4,
   "id": "feaf3461",
   "metadata": {},
   "outputs": [
    {
     "name": "stdout",
     "output_type": "stream",
     "text": [
      "\n",
      "--- Checking actual error for 'test_repeat_named_axis' ---\n",
      "\n",
      "--- Parsing Pattern ---\n",
      "Input pattern: 'a b -> a rpt b', shape: (2, 2), axes_lengths: {'rpt': 2}\n",
      "Parsed LHS: ParsedExpressionData(raw_axes=['a', 'b'], identifiers={'b', 'a'}, has_ellipsis=False, has_composition=False, has_anonymous_axes=False, has_trivial_anonymous_axis=False)\n",
      "Parsed RHS: ParsedExpressionData(raw_axes=['a', 'rpt', 'b'], identifiers={'b', 'rpt', 'a'}, has_ellipsis=False, has_composition=False, has_anonymous_axes=False, has_trivial_anonymous_axis=False)\n",
      "DEBUG: Processing LHS...\n",
      "  LHS group: 'a'\n",
      "    Matches shape dim 0 (size 2)\n",
      "      Resolved LHS axis 'a' length: 2. Added to decomposed list.\n",
      "  LHS group: 'b'\n",
      "    Matches shape dim 1 (size 2)\n",
      "      Resolved LHS axis 'b' length: 2. Added to decomposed list.\n",
      "Finished LHS processing. Decomposed LHS axes: ['a', 'b']\n",
      "Resolved axis lengths after LHS: {'rpt': 2, 'a': 2, 'b': 2}\n",
      "Generated LHS set for validation: {'b', 'a'}\n",
      "DEBUG: Processing RHS...\n",
      "  RHS group: 'a'\n",
      "      Processing named RHS axis: 'a'\n",
      "        Axis 'a' is from LHS. Length: 2\n",
      "  RHS group: 'rpt'\n",
      "      Processing named RHS axis: 'rpt'\n",
      "        Axis 'rpt' is NEW named repeat. Length: 2. Updated repeat_axes_info: {'rpt': 2}\n",
      "  RHS group: 'b'\n",
      "      Processing named RHS axis: 'b'\n",
      "        Axis 'b' is from LHS. Length: 2\n",
      "Finished RHS processing.\n",
      "  Decomposed RHS axes final: ['a', 'rpt', 'b']\n",
      "  Final shape list: [2, 2, 2]\n",
      "  Repeat axes info: {'rpt': 2}\n",
      "  Resolved axes lengths after RHS: {'rpt': 2, 'a': 2, 'b': 2}\n",
      "DEBUG: Performing final validation checks...\n",
      "  Validation - LHS set: {'b', 'a'}\n",
      "  Validation - RHS atomic set: {'b', 'rpt', 'a'}\n",
      "  Validation - Repeat set (keys): {'rpt'}\n",
      "  Validation - Extra on RHS (RHS - LHS): {'rpt'}\n",
      "  Validation - Missing on RHS (LHS - RHS): set()\n",
      "DEBUG: Final validation checks passed.\n",
      "DEBUG Transpose Check: Source order: ['a', 'b'], Target order: ['a', 'b']\n",
      "--- Parsing Finished Successfully ---\n",
      "Generated Plan: ParsedPattern(lhs_expression=ParsedExpressionData(raw_axes=['a', 'b'], identifiers={'b', 'a'}, has_ellipsis=False, has_composition=False, has_anonymous_axes=False, has_trivial_anonymous_axis=False), decomposed_lhs_axes=['a', 'b'], rhs_expression=ParsedExpressionData(raw_axes=['a', 'rpt', 'b'], identifiers={'b', 'rpt', 'a'}, has_ellipsis=False, has_composition=False, has_anonymous_axes=False, has_trivial_anonymous_axis=False), decomposed_rhs_axes_final=['a', 'rpt', 'b'], resolved_axes_lengths={'rpt': 2, 'a': 2, 'b': 2}, repeat_axes_info={'rpt': 2}, needs_reshaping_input=False, needs_repeating=True, needs_transposing=False, needs_reshaping_output=False, shape_after_lhs_reshape=(2, 2), transpose_indices=(), final_shape=(2, 2, 2))\n",
      "\n",
      "--- Executing Rearrangement ---\n",
      "Input tensor shape: (2, 2)\n",
      "Plan: ParsedPattern(lhs_expression=ParsedExpressionData(raw_axes=['a', 'b'], identifiers={'b', 'a'}, has_ellipsis=False, has_composition=False, has_anonymous_axes=False, has_trivial_anonymous_axis=False), decomposed_lhs_axes=['a', 'b'], rhs_expression=ParsedExpressionData(raw_axes=['a', 'rpt', 'b'], identifiers={'b', 'rpt', 'a'}, has_ellipsis=False, has_composition=False, has_anonymous_axes=False, has_trivial_anonymous_axis=False), decomposed_rhs_axes_final=['a', 'rpt', 'b'], resolved_axes_lengths={'rpt': 2, 'a': 2, 'b': 2}, repeat_axes_info={'rpt': 2}, needs_reshaping_input=False, needs_repeating=True, needs_transposing=False, needs_reshaping_output=False, shape_after_lhs_reshape=(2, 2), transpose_indices=(), final_shape=(2, 2, 2))\n",
      "Step 1: Initial Reshape NOT Needed.\n",
      "Step 2: Transpose NOT Needed.\n",
      "Step 3: Axis Insertion/Repeat Needed? True\n",
      "   Insert locations calculated: [(1, 'rpt')]\n",
      "   Starting expand_dims loop. Initial shape: (2, 2)\n",
      "      Expanding dim for axis 'rpt' at index 1. Current shape: (2, 2)\n",
      "      Shape after expand_dims: (2, 1, 2)\n",
      "   Shape after all expand_dims: (2, 1, 2)\n",
      "   Starting repeat loop. Initial shape: (2, 1, 2)\n",
      "      Repeating axis 'rpt' at index 1 by 2. Current shape: (2, 1, 2)\n",
      "      Shape after repeat: (2, 2, 2)\n",
      "   Shape after all repeats: (2, 2, 2)\n",
      "Step 4: Final Reshape Needed? False (RHS composition: False, Shape mismatch: False)\n",
      "   Current shape: (2, 2, 2), Target final shape: (2, 2, 2)\n",
      "Step 4: Final Reshape NOT Needed.\n",
      "--- Execution Finished Successfully. Final shape: (2, 2, 2) ---\n"
     ]
    }
   ],
   "source": [
    "print(\"\\n--- Checking actual error for 'test_repeat_named_axis' ---\")\n",
    "try:\n",
    "    tensor = np.array([[1, 2], [3, 4]])\n",
    "    rearrange(tensor, 'a b -> a rpt b', rpt=2)\n",
    "except EinopsError as e:\n",
    "    print(\"Caught EinopsError:\", repr(e))"
   ]
  },
  {
   "cell_type": "code",
   "execution_count": 1,
   "id": "55c1d4fe",
   "metadata": {},
   "outputs": [],
   "source": [
    "import numpy as np\n",
    "from my_einops import rearrange, EinopsError"
   ]
  },
  {
   "cell_type": "code",
   "execution_count": 3,
   "id": "c38ebd17",
   "metadata": {},
   "outputs": [
    {
     "ename": "EinopsError",
     "evalue": "Axes {'b'} present on LHS but missing on RHS. Reduction is not supported by rearrange.",
     "output_type": "error",
     "traceback": [
      "\u001b[1;31m---------------------------------------------------------------------------\u001b[0m",
      "\u001b[1;31mEinopsError\u001b[0m                               Traceback (most recent call last)",
      "Cell \u001b[1;32mIn[3], line 1\u001b[0m\n\u001b[1;32m----> 1\u001b[0m \u001b[43mrearrange\u001b[49m\u001b[43m(\u001b[49m\u001b[43mnp\u001b[49m\u001b[38;5;241;43m.\u001b[39;49m\u001b[43mzeros\u001b[49m\u001b[43m(\u001b[49m\u001b[43m(\u001b[49m\u001b[38;5;241;43m2\u001b[39;49m\u001b[43m,\u001b[49m\u001b[38;5;241;43m3\u001b[39;49m\u001b[43m)\u001b[49m\u001b[43m)\u001b[49m\u001b[43m,\u001b[49m\u001b[43m \u001b[49m\u001b[38;5;124;43m'\u001b[39;49m\u001b[38;5;124;43ma b -> a 2\u001b[39;49m\u001b[38;5;124;43m'\u001b[39;49m\u001b[43m)\u001b[49m\n",
      "File \u001b[1;32mf:\\EI\\my_einops.py:117\u001b[0m, in \u001b[0;36mrearrange\u001b[1;34m(tensor, pattern, **axes_lengths)\u001b[0m\n\u001b[0;32m    115\u001b[0m     \u001b[38;5;28;01mreturn\u001b[39;00m result\n\u001b[0;32m    116\u001b[0m \u001b[38;5;28;01mexcept\u001b[39;00m EinopsError \u001b[38;5;28;01mas\u001b[39;00m e:\n\u001b[1;32m--> 117\u001b[0m     \u001b[38;5;28;01mraise\u001b[39;00m e\n\u001b[0;32m    118\u001b[0m \u001b[38;5;28;01mexcept\u001b[39;00m \u001b[38;5;167;01mException\u001b[39;00m \u001b[38;5;28;01mas\u001b[39;00m e:\n\u001b[0;32m    119\u001b[0m     \u001b[38;5;28;01mif\u001b[39;00m \u001b[38;5;28misinstance\u001b[39m(tensor, np\u001b[38;5;241m.\u001b[39mndarray):\n",
      "File \u001b[1;32mf:\\EI\\my_einops.py:110\u001b[0m, in \u001b[0;36mrearrange\u001b[1;34m(tensor, pattern, **axes_lengths)\u001b[0m\n\u001b[0;32m    107\u001b[0m _validate_input(tensor, pattern, axes_lengths)\n\u001b[0;32m    109\u001b[0m \u001b[38;5;66;03m# 2. Parse the pattern, validate semantics, and create an execution plan\u001b[39;00m\n\u001b[1;32m--> 110\u001b[0m parsed_pattern \u001b[38;5;241m=\u001b[39m \u001b[43m_parse_pattern\u001b[49m\u001b[43m(\u001b[49m\u001b[43mpattern\u001b[49m\u001b[43m,\u001b[49m\u001b[43m \u001b[49m\u001b[43mtensor\u001b[49m\u001b[38;5;241;43m.\u001b[39;49m\u001b[43mshape\u001b[49m\u001b[43m,\u001b[49m\u001b[43m \u001b[49m\u001b[43maxes_lengths\u001b[49m\u001b[43m)\u001b[49m\n\u001b[0;32m    112\u001b[0m \u001b[38;5;66;03m# 3. Execute the plan using NumPy operations\u001b[39;00m\n\u001b[0;32m    113\u001b[0m result \u001b[38;5;241m=\u001b[39m _execute_rearrangement(tensor, parsed_pattern)\n",
      "File \u001b[1;32mf:\\EI\\my_einops.py:568\u001b[0m, in \u001b[0;36m_parse_pattern\u001b[1;34m(pattern, tensor_shape, axes_lengths)\u001b[0m\n\u001b[0;32m    566\u001b[0m missing_on_rhs \u001b[38;5;241m=\u001b[39m lhs_set \u001b[38;5;241m-\u001b[39m rhs_set_all_atomic\n\u001b[0;32m    567\u001b[0m \u001b[38;5;28;01mif\u001b[39;00m missing_on_rhs:\n\u001b[1;32m--> 568\u001b[0m     \u001b[38;5;28;01mraise\u001b[39;00m EinopsError(\u001b[38;5;124mf\u001b[39m\u001b[38;5;124m\"\u001b[39m\u001b[38;5;124mAxes \u001b[39m\u001b[38;5;132;01m{\u001b[39;00mmissing_on_rhs\u001b[38;5;132;01m}\u001b[39;00m\u001b[38;5;124m present on LHS but missing on RHS. Reduction is not supported by rearrange.\u001b[39m\u001b[38;5;124m\"\u001b[39m)\n\u001b[0;32m    570\u001b[0m needs_reshaping_input \u001b[38;5;241m=\u001b[39m lhs_data\u001b[38;5;241m.\u001b[39mhas_composition \u001b[38;5;129;01mor\u001b[39;00m lhs_data\u001b[38;5;241m.\u001b[39mhas_trivial_anonymous_axis\n\u001b[0;32m    571\u001b[0m needs_repeating \u001b[38;5;241m=\u001b[39m \u001b[38;5;28mbool\u001b[39m(repeat_axes_info)\n",
      "\u001b[1;31mEinopsError\u001b[0m: Axes {'b'} present on LHS but missing on RHS. Reduction is not supported by rearrange."
     ]
    }
   ],
   "source": [
    "rearrange(np.zeros((2,3)), 'a b -> a 2')"
   ]
  },
  {
   "cell_type": "code",
   "execution_count": 2,
   "id": "2eab442b",
   "metadata": {},
   "outputs": [
    {
     "ename": "EinopsError",
     "evalue": "Axis 'c' appears on the right side ('a c')but is not defined on the left side ('a b') and its length is not specified via axes_lengths={}",
     "output_type": "error",
     "traceback": [
      "\u001b[1;31m---------------------------------------------------------------------------\u001b[0m",
      "\u001b[1;31mEinopsError\u001b[0m                               Traceback (most recent call last)",
      "Cell \u001b[1;32mIn[2], line 1\u001b[0m\n\u001b[1;32m----> 1\u001b[0m \u001b[43mrearrange\u001b[49m\u001b[43m(\u001b[49m\u001b[43mnp\u001b[49m\u001b[38;5;241;43m.\u001b[39;49m\u001b[43mzeros\u001b[49m\u001b[43m(\u001b[49m\u001b[43m(\u001b[49m\u001b[38;5;241;43m2\u001b[39;49m\u001b[43m,\u001b[49m\u001b[38;5;241;43m3\u001b[39;49m\u001b[43m)\u001b[49m\u001b[43m)\u001b[49m\u001b[43m,\u001b[49m\u001b[43m \u001b[49m\u001b[38;5;124;43m'\u001b[39;49m\u001b[38;5;124;43ma b -> a c\u001b[39;49m\u001b[38;5;124;43m'\u001b[39;49m\u001b[43m)\u001b[49m\n",
      "File \u001b[1;32mf:\\EI\\my_einops.py:117\u001b[0m, in \u001b[0;36mrearrange\u001b[1;34m(tensor, pattern, **axes_lengths)\u001b[0m\n\u001b[0;32m    115\u001b[0m     \u001b[38;5;28;01mreturn\u001b[39;00m result\n\u001b[0;32m    116\u001b[0m \u001b[38;5;28;01mexcept\u001b[39;00m EinopsError \u001b[38;5;28;01mas\u001b[39;00m e:\n\u001b[1;32m--> 117\u001b[0m     \u001b[38;5;28;01mraise\u001b[39;00m e\n\u001b[0;32m    118\u001b[0m \u001b[38;5;28;01mexcept\u001b[39;00m \u001b[38;5;167;01mException\u001b[39;00m \u001b[38;5;28;01mas\u001b[39;00m e:\n\u001b[0;32m    119\u001b[0m     \u001b[38;5;28;01mif\u001b[39;00m \u001b[38;5;28misinstance\u001b[39m(tensor, np\u001b[38;5;241m.\u001b[39mndarray):\n",
      "File \u001b[1;32mf:\\EI\\my_einops.py:110\u001b[0m, in \u001b[0;36mrearrange\u001b[1;34m(tensor, pattern, **axes_lengths)\u001b[0m\n\u001b[0;32m    107\u001b[0m _validate_input(tensor, pattern, axes_lengths)\n\u001b[0;32m    109\u001b[0m \u001b[38;5;66;03m# 2. Parse the pattern, validate semantics, and create an execution plan\u001b[39;00m\n\u001b[1;32m--> 110\u001b[0m parsed_pattern \u001b[38;5;241m=\u001b[39m \u001b[43m_parse_pattern\u001b[49m\u001b[43m(\u001b[49m\u001b[43mpattern\u001b[49m\u001b[43m,\u001b[49m\u001b[43m \u001b[49m\u001b[43mtensor\u001b[49m\u001b[38;5;241;43m.\u001b[39;49m\u001b[43mshape\u001b[49m\u001b[43m,\u001b[49m\u001b[43m \u001b[49m\u001b[43maxes_lengths\u001b[49m\u001b[43m)\u001b[49m\n\u001b[0;32m    112\u001b[0m \u001b[38;5;66;03m# 3. Execute the plan using NumPy operations\u001b[39;00m\n\u001b[0;32m    113\u001b[0m result \u001b[38;5;241m=\u001b[39m _execute_rearrangement(tensor, parsed_pattern)\n",
      "File \u001b[1;32mf:\\EI\\my_einops.py:547\u001b[0m, in \u001b[0;36m_parse_pattern\u001b[1;34m(pattern, tensor_shape, axes_lengths)\u001b[0m\n\u001b[0;32m    545\u001b[0m             \u001b[38;5;28;01mif\u001b[39;00m \u001b[38;5;28mlen\u001b[39m(axes_lengths)\u001b[38;5;241m==\u001b[39m\u001b[38;5;241m0\u001b[39m:\n\u001b[0;32m    546\u001b[0m                 context\u001b[38;5;241m+\u001b[39m\u001b[38;5;241m=\u001b[39m\u001b[38;5;124mf\u001b[39m\u001b[38;5;124m\"\u001b[39m\u001b[38;5;124mand its length is not specified via axes_lengths=\u001b[39m\u001b[38;5;132;01m{\u001b[39;00maxes_lengths\u001b[38;5;132;01m}\u001b[39;00m\u001b[38;5;124m\"\u001b[39m\n\u001b[1;32m--> 547\u001b[0m             \u001b[38;5;28;01mraise\u001b[39;00m EinopsError(\n\u001b[0;32m    548\u001b[0m                     context\n\u001b[0;32m    549\u001b[0m                 )\n\u001b[0;32m    550\u001b[0m \u001b[38;5;28;01melse\u001b[39;00m:\n\u001b[0;32m    551\u001b[0m     \u001b[38;5;28;01mraise\u001b[39;00m EinopsError(\n\u001b[0;32m    552\u001b[0m         \u001b[38;5;124mf\u001b[39m\u001b[38;5;124m\"\u001b[39m\u001b[38;5;124mInternal parsing error: Unexpected element type \u001b[39m\u001b[38;5;124m'\u001b[39m\u001b[38;5;132;01m{\u001b[39;00m\u001b[38;5;28mtype\u001b[39m(axis_group)\u001b[38;5;132;01m}\u001b[39;00m\u001b[38;5;124m'\u001b[39m\u001b[38;5;124m (\u001b[39m\u001b[38;5;124m'\u001b[39m\u001b[38;5;132;01m{\u001b[39;00maxis_group\u001b[38;5;132;01m}\u001b[39;00m\u001b[38;5;124m'\u001b[39m\u001b[38;5;124m) in parsed RHS.\u001b[39m\u001b[38;5;124m\"\u001b[39m\n\u001b[0;32m    553\u001b[0m     )\n",
      "\u001b[1;31mEinopsError\u001b[0m: Axis 'c' appears on the right side ('a c')but is not defined on the left side ('a b') and its length is not specified via axes_lengths={}"
     ]
    }
   ],
   "source": [
    "rearrange(np.zeros((2,3)), 'a b -> a c')"
   ]
  },
  {
   "cell_type": "code",
   "execution_count": 13,
   "id": "2adb630e",
   "metadata": {},
   "outputs": [
    {
     "name": "stdout",
     "output_type": "stream",
     "text": [
      "\n",
      "--- Checking actual error for 'test_shape_rank_mismatch_pattern_longer' ---\n",
      "Caught EinopsError: EinopsError(\"Rank mismatch: Pattern 'a b c' has more axes than input tensor rank 2\")\n"
     ]
    }
   ],
   "source": [
    "print(\"\\n--- Checking actual error for 'test_shape_rank_mismatch_pattern_longer' ---\")\n",
    "try:\n",
    "    rearrange(np.arange(20).reshape(5, 4), 'a b c -> a b c')\n",
    "except EinopsError as e:\n",
    "    print(\"Caught EinopsError:\", repr(e))"
   ]
  },
  {
   "cell_type": "code",
   "execution_count": 14,
   "id": "dd57c5b1",
   "metadata": {},
   "outputs": [
    {
     "name": "stdout",
     "output_type": "stream",
     "text": [
      "\n",
      "--- Checking actual error for 'test_repeat_named_axis' ---\n",
      "Caught EinopsError: EinopsError(\"Axes {'rpt'} appear on RHS but not LHS\")\n"
     ]
    }
   ],
   "source": [
    "print(\"\\n--- Checking actual error for 'test_repeat_named_axis' ---\")\n",
    "try:\n",
    "    tensor = np.array([[1, 2], [3, 4]])\n",
    "    rearrange(tensor, 'a b -> a rpt b', rpt=2)\n",
    "except EinopsError as e:\n",
    "    print(\"Caught EinopsError:\", repr(e))"
   ]
  },
  {
   "cell_type": "code",
   "execution_count": 8,
   "id": "abbf634b",
   "metadata": {},
   "outputs": [
    {
     "name": "stdout",
     "output_type": "stream",
     "text": [
      "\n",
      "--- Checking actual error for 'test_repeat_user_case_squeeze_and_repeat' ---\n",
      "Caught EinopsError: EinopsError(\"Axes {'b'} appear on RHS but not LHS\")\n"
     ]
    }
   ],
   "source": [
    "print(\"\\n--- Checking actual error for 'test_repeat_user_case_squeeze_and_repeat' ---\")\n",
    "try:\n",
    "    tensor = np.random.rand(3, 1, 5)\n",
    "    rearrange(tensor, 'a 1 c -> a b c', b=4)\n",
    "except EinopsError as e:\n",
    "    print(\"Caught EinopsError:\", repr(e))"
   ]
  },
  {
   "cell_type": "code",
   "execution_count": 5,
   "id": "80c256fa",
   "metadata": {},
   "outputs": [],
   "source": [
    "def show_actual_error_messages():\n",
    "    print(\"\\n--- Checking actual error for 'test_unknown_axis_rhs_no_length' ---\")\n",
    "    try:\n",
    "        rearrange(np.zeros((2,3)), 'a b -> a c')\n",
    "    except EinopsError as e:\n",
    "        print(\"Caught EinopsError:\", repr(e))\n",
    "\n",
    "    print(\"\\n--- Checking actual error for 'test_shape_rank_mismatch_pattern_longer' ---\")\n",
    "    try:\n",
    "        rearrange(np.arange(10).reshape(5, 2), 'a b c -> a b c')\n",
    "    except EinopsError as e:\n",
    "        print(\"Caught EinopsError:\", repr(e))\n",
    "\n",
    "    print(\"\\n--- Checking actual error for 'test_repeat_named_axis' ---\")\n",
    "    try:\n",
    "        tensor = np.array([[1, 2], [3, 4]])\n",
    "        rearrange(tensor, 'a b -> a rpt b', rpt=2)\n",
    "    except EinopsError as e:\n",
    "        print(\"Caught EinopsError:\", repr(e))\n",
    "\n",
    "    print(\"\\n--- Checking actual error for 'test_repeat_user_case_squeeze_and_repeat' ---\")\n",
    "    try:\n",
    "        tensor = np.random.rand(3, 1, 5)\n",
    "        rearrange(tensor, 'a 1 c -> a b c', b=4)\n",
    "    except EinopsError as e:\n",
    "        print(\"Caught EinopsError:\", repr(e))\n",
    "\n",
    "# Uncomment this if you want pytest to run it automatically, or just call it manually\n",
    "# def test_print_error_messages():\n",
    "#     show_actual_error_messages()"
   ]
  },
  {
   "cell_type": "code",
   "execution_count": 4,
   "id": "598d30a6",
   "metadata": {},
   "outputs": [],
   "source": [
    "import einops \n",
    "from einops import rearrange\n",
    "import numpy as np\n"
   ]
  },
  {
   "cell_type": "code",
   "execution_count": 5,
   "id": "7cdf0a81",
   "metadata": {},
   "outputs": [
    {
     "ename": "EinopsError",
     "evalue": " Error while processing rearrange-reduction pattern \"a b -> a 2\".\n Input tensor shape: (2, 3). Additional info: {}.\n Non-unitary anonymous axes are not supported in rearrange (exception is length 1)",
     "output_type": "error",
     "traceback": [
      "\u001b[1;31m---------------------------------------------------------------------------\u001b[0m",
      "\u001b[1;31mEinopsError\u001b[0m                               Traceback (most recent call last)",
      "File \u001b[1;32mf:\\venv_folder\\einops\\lib\\site-packages\\einops\\einops.py:531\u001b[0m, in \u001b[0;36mreduce\u001b[1;34m(tensor, pattern, reduction, **axes_lengths)\u001b[0m\n\u001b[0;32m    530\u001b[0m shape \u001b[38;5;241m=\u001b[39m backend\u001b[38;5;241m.\u001b[39mshape(tensor)\n\u001b[1;32m--> 531\u001b[0m recipe \u001b[38;5;241m=\u001b[39m \u001b[43m_prepare_transformation_recipe\u001b[49m\u001b[43m(\u001b[49m\u001b[43mpattern\u001b[49m\u001b[43m,\u001b[49m\u001b[43m \u001b[49m\u001b[43mreduction\u001b[49m\u001b[43m,\u001b[49m\u001b[43m \u001b[49m\u001b[43maxes_names\u001b[49m\u001b[38;5;241;43m=\u001b[39;49m\u001b[38;5;28;43mtuple\u001b[39;49m\u001b[43m(\u001b[49m\u001b[43maxes_lengths\u001b[49m\u001b[43m)\u001b[49m\u001b[43m,\u001b[49m\u001b[43m \u001b[49m\u001b[43mndim\u001b[49m\u001b[38;5;241;43m=\u001b[39;49m\u001b[38;5;28;43mlen\u001b[39;49m\u001b[43m(\u001b[49m\u001b[43mshape\u001b[49m\u001b[43m)\u001b[49m\u001b[43m)\u001b[49m\n\u001b[0;32m    532\u001b[0m \u001b[38;5;28;01mreturn\u001b[39;00m _apply_recipe(\n\u001b[0;32m    533\u001b[0m     backend, recipe, cast(Tensor, tensor), reduction_type\u001b[38;5;241m=\u001b[39mreduction, axes_lengths\u001b[38;5;241m=\u001b[39mhashable_axes_lengths\n\u001b[0;32m    534\u001b[0m )\n",
      "File \u001b[1;32mf:\\venv_folder\\einops\\lib\\site-packages\\einops\\einops.py:310\u001b[0m, in \u001b[0;36m_prepare_transformation_recipe\u001b[1;34m(pattern, operation, axes_names, ndim)\u001b[0m\n\u001b[0;32m    309\u001b[0m \u001b[38;5;28;01mif\u001b[39;00m left\u001b[38;5;241m.\u001b[39mhas_non_unitary_anonymous_axes \u001b[38;5;129;01mor\u001b[39;00m rght\u001b[38;5;241m.\u001b[39mhas_non_unitary_anonymous_axes:\n\u001b[1;32m--> 310\u001b[0m     \u001b[38;5;28;01mraise\u001b[39;00m EinopsError(\u001b[38;5;124m\"\u001b[39m\u001b[38;5;124mNon-unitary anonymous axes are not supported in rearrange (exception is length 1)\u001b[39m\u001b[38;5;124m\"\u001b[39m)\n\u001b[0;32m    311\u001b[0m difference \u001b[38;5;241m=\u001b[39m \u001b[38;5;28mset\u001b[39m\u001b[38;5;241m.\u001b[39msymmetric_difference(left\u001b[38;5;241m.\u001b[39midentifiers, rght\u001b[38;5;241m.\u001b[39midentifiers)\n",
      "\u001b[1;31mEinopsError\u001b[0m: Non-unitary anonymous axes are not supported in rearrange (exception is length 1)",
      "\nDuring handling of the above exception, another exception occurred:\n",
      "\u001b[1;31mEinopsError\u001b[0m                               Traceback (most recent call last)",
      "Cell \u001b[1;32mIn[5], line 1\u001b[0m\n\u001b[1;32m----> 1\u001b[0m \u001b[43mrearrange\u001b[49m\u001b[43m(\u001b[49m\u001b[43mnp\u001b[49m\u001b[38;5;241;43m.\u001b[39;49m\u001b[43mzeros\u001b[49m\u001b[43m(\u001b[49m\u001b[43m(\u001b[49m\u001b[38;5;241;43m2\u001b[39;49m\u001b[43m,\u001b[49m\u001b[38;5;241;43m3\u001b[39;49m\u001b[43m)\u001b[49m\u001b[43m)\u001b[49m\u001b[43m,\u001b[49m\u001b[43m \u001b[49m\u001b[38;5;124;43m'\u001b[39;49m\u001b[38;5;124;43ma b -> a 2\u001b[39;49m\u001b[38;5;124;43m'\u001b[39;49m\u001b[43m)\u001b[49m\n",
      "File \u001b[1;32mf:\\venv_folder\\einops\\lib\\site-packages\\einops\\einops.py:600\u001b[0m, in \u001b[0;36mrearrange\u001b[1;34m(tensor, pattern, **axes_lengths)\u001b[0m\n\u001b[0;32m    545\u001b[0m \u001b[38;5;28;01mdef\u001b[39;00m\u001b[38;5;250m \u001b[39m\u001b[38;5;21mrearrange\u001b[39m(tensor: Union[Tensor, List[Tensor]], pattern: \u001b[38;5;28mstr\u001b[39m, \u001b[38;5;241m*\u001b[39m\u001b[38;5;241m*\u001b[39maxes_lengths: Size) \u001b[38;5;241m-\u001b[39m\u001b[38;5;241m>\u001b[39m Tensor:\n\u001b[0;32m    546\u001b[0m \u001b[38;5;250m    \u001b[39m\u001b[38;5;124;03m\"\"\"\u001b[39;00m\n\u001b[0;32m    547\u001b[0m \u001b[38;5;124;03m    einops.rearrange is a reader-friendly smart element reordering for multidimensional tensors.\u001b[39;00m\n\u001b[0;32m    548\u001b[0m \u001b[38;5;124;03m    This operation includes functionality of transpose (axes permutation), reshape (view), squeeze, unsqueeze,\u001b[39;00m\n\u001b[1;32m   (...)\u001b[0m\n\u001b[0;32m    598\u001b[0m \n\u001b[0;32m    599\u001b[0m \u001b[38;5;124;03m    \"\"\"\u001b[39;00m\n\u001b[1;32m--> 600\u001b[0m     \u001b[38;5;28;01mreturn\u001b[39;00m reduce(tensor, pattern, reduction\u001b[38;5;241m=\u001b[39m\u001b[38;5;124m\"\u001b[39m\u001b[38;5;124mrearrange\u001b[39m\u001b[38;5;124m\"\u001b[39m, \u001b[38;5;241m*\u001b[39m\u001b[38;5;241m*\u001b[39maxes_lengths)\n",
      "File \u001b[1;32mf:\\venv_folder\\einops\\lib\\site-packages\\einops\\einops.py:542\u001b[0m, in \u001b[0;36mreduce\u001b[1;34m(tensor, pattern, reduction, **axes_lengths)\u001b[0m\n\u001b[0;32m    540\u001b[0m     message \u001b[38;5;241m+\u001b[39m\u001b[38;5;241m=\u001b[39m \u001b[38;5;124m\"\u001b[39m\u001b[38;5;130;01m\\n\u001b[39;00m\u001b[38;5;124m Input is list. \u001b[39m\u001b[38;5;124m\"\u001b[39m\n\u001b[0;32m    541\u001b[0m message \u001b[38;5;241m+\u001b[39m\u001b[38;5;241m=\u001b[39m \u001b[38;5;124m\"\u001b[39m\u001b[38;5;124mAdditional info: \u001b[39m\u001b[38;5;132;01m{}\u001b[39;00m\u001b[38;5;124m.\u001b[39m\u001b[38;5;124m\"\u001b[39m\u001b[38;5;241m.\u001b[39mformat(axes_lengths)\n\u001b[1;32m--> 542\u001b[0m \u001b[38;5;28;01mraise\u001b[39;00m EinopsError(message \u001b[38;5;241m+\u001b[39m \u001b[38;5;124m\"\u001b[39m\u001b[38;5;130;01m\\n\u001b[39;00m\u001b[38;5;124m \u001b[39m\u001b[38;5;132;01m{}\u001b[39;00m\u001b[38;5;124m\"\u001b[39m\u001b[38;5;241m.\u001b[39mformat(e))\n",
      "\u001b[1;31mEinopsError\u001b[0m:  Error while processing rearrange-reduction pattern \"a b -> a 2\".\n Input tensor shape: (2, 3). Additional info: {}.\n Non-unitary anonymous axes are not supported in rearrange (exception is length 1)"
     ]
    }
   ],
   "source": [
    "rearrange(np.zeros((2,3)), 'a b -> a 2')"
   ]
  },
  {
   "cell_type": "code",
   "execution_count": 17,
   "id": "18d1af18",
   "metadata": {},
   "outputs": [
    {
     "ename": "EinopsError",
     "evalue": " Error while processing rearrange-reduction pattern \"a b -> a c\".\n Input tensor shape: (2, 3). Additional info: {'c': 3}.\n Identifiers only on one side of expression (should be on both): {'c', 'b'}",
     "output_type": "error",
     "traceback": [
      "\u001b[1;31m---------------------------------------------------------------------------\u001b[0m",
      "\u001b[1;31mEinopsError\u001b[0m                               Traceback (most recent call last)",
      "File \u001b[1;32mf:\\venv_folder\\einops\\lib\\site-packages\\einops\\einops.py:531\u001b[0m, in \u001b[0;36mreduce\u001b[1;34m(tensor, pattern, reduction, **axes_lengths)\u001b[0m\n\u001b[0;32m    530\u001b[0m shape \u001b[38;5;241m=\u001b[39m backend\u001b[38;5;241m.\u001b[39mshape(tensor)\n\u001b[1;32m--> 531\u001b[0m recipe \u001b[38;5;241m=\u001b[39m \u001b[43m_prepare_transformation_recipe\u001b[49m\u001b[43m(\u001b[49m\u001b[43mpattern\u001b[49m\u001b[43m,\u001b[49m\u001b[43m \u001b[49m\u001b[43mreduction\u001b[49m\u001b[43m,\u001b[49m\u001b[43m \u001b[49m\u001b[43maxes_names\u001b[49m\u001b[38;5;241;43m=\u001b[39;49m\u001b[38;5;28;43mtuple\u001b[39;49m\u001b[43m(\u001b[49m\u001b[43maxes_lengths\u001b[49m\u001b[43m)\u001b[49m\u001b[43m,\u001b[49m\u001b[43m \u001b[49m\u001b[43mndim\u001b[49m\u001b[38;5;241;43m=\u001b[39;49m\u001b[38;5;28;43mlen\u001b[39;49m\u001b[43m(\u001b[49m\u001b[43mshape\u001b[49m\u001b[43m)\u001b[49m\u001b[43m)\u001b[49m\n\u001b[0;32m    532\u001b[0m \u001b[38;5;28;01mreturn\u001b[39;00m _apply_recipe(\n\u001b[0;32m    533\u001b[0m     backend, recipe, cast(Tensor, tensor), reduction_type\u001b[38;5;241m=\u001b[39mreduction, axes_lengths\u001b[38;5;241m=\u001b[39mhashable_axes_lengths\n\u001b[0;32m    534\u001b[0m )\n",
      "File \u001b[1;32mf:\\venv_folder\\einops\\lib\\site-packages\\einops\\einops.py:313\u001b[0m, in \u001b[0;36m_prepare_transformation_recipe\u001b[1;34m(pattern, operation, axes_names, ndim)\u001b[0m\n\u001b[0;32m    312\u001b[0m     \u001b[38;5;28;01mif\u001b[39;00m \u001b[38;5;28mlen\u001b[39m(difference) \u001b[38;5;241m>\u001b[39m \u001b[38;5;241m0\u001b[39m:\n\u001b[1;32m--> 313\u001b[0m         \u001b[38;5;28;01mraise\u001b[39;00m EinopsError(\u001b[38;5;124m\"\u001b[39m\u001b[38;5;124mIdentifiers only on one side of expression (should be on both): \u001b[39m\u001b[38;5;132;01m{}\u001b[39;00m\u001b[38;5;124m\"\u001b[39m\u001b[38;5;241m.\u001b[39mformat(difference))\n\u001b[0;32m    314\u001b[0m \u001b[38;5;28;01melif\u001b[39;00m operation \u001b[38;5;241m==\u001b[39m \u001b[38;5;124m\"\u001b[39m\u001b[38;5;124mrepeat\u001b[39m\u001b[38;5;124m\"\u001b[39m:\n",
      "\u001b[1;31mEinopsError\u001b[0m: Identifiers only on one side of expression (should be on both): {'c', 'b'}",
      "\nDuring handling of the above exception, another exception occurred:\n",
      "\u001b[1;31mEinopsError\u001b[0m                               Traceback (most recent call last)",
      "Cell \u001b[1;32mIn[17], line 1\u001b[0m\n\u001b[1;32m----> 1\u001b[0m \u001b[43mrearrange\u001b[49m\u001b[43m(\u001b[49m\u001b[43mnp\u001b[49m\u001b[38;5;241;43m.\u001b[39;49m\u001b[43mzeros\u001b[49m\u001b[43m(\u001b[49m\u001b[43m(\u001b[49m\u001b[38;5;241;43m2\u001b[39;49m\u001b[43m,\u001b[49m\u001b[38;5;241;43m3\u001b[39;49m\u001b[43m)\u001b[49m\u001b[43m)\u001b[49m\u001b[43m,\u001b[49m\u001b[43m \u001b[49m\u001b[38;5;124;43m'\u001b[39;49m\u001b[38;5;124;43ma b -> a c\u001b[39;49m\u001b[38;5;124;43m'\u001b[39;49m\u001b[43m,\u001b[49m\u001b[43m \u001b[49m\u001b[43mc\u001b[49m\u001b[38;5;241;43m=\u001b[39;49m\u001b[38;5;241;43m3\u001b[39;49m\u001b[43m)\u001b[49m\n",
      "File \u001b[1;32mf:\\venv_folder\\einops\\lib\\site-packages\\einops\\einops.py:600\u001b[0m, in \u001b[0;36mrearrange\u001b[1;34m(tensor, pattern, **axes_lengths)\u001b[0m\n\u001b[0;32m    545\u001b[0m \u001b[38;5;28;01mdef\u001b[39;00m\u001b[38;5;250m \u001b[39m\u001b[38;5;21mrearrange\u001b[39m(tensor: Union[Tensor, List[Tensor]], pattern: \u001b[38;5;28mstr\u001b[39m, \u001b[38;5;241m*\u001b[39m\u001b[38;5;241m*\u001b[39maxes_lengths: Size) \u001b[38;5;241m-\u001b[39m\u001b[38;5;241m>\u001b[39m Tensor:\n\u001b[0;32m    546\u001b[0m \u001b[38;5;250m    \u001b[39m\u001b[38;5;124;03m\"\"\"\u001b[39;00m\n\u001b[0;32m    547\u001b[0m \u001b[38;5;124;03m    einops.rearrange is a reader-friendly smart element reordering for multidimensional tensors.\u001b[39;00m\n\u001b[0;32m    548\u001b[0m \u001b[38;5;124;03m    This operation includes functionality of transpose (axes permutation), reshape (view), squeeze, unsqueeze,\u001b[39;00m\n\u001b[1;32m   (...)\u001b[0m\n\u001b[0;32m    598\u001b[0m \n\u001b[0;32m    599\u001b[0m \u001b[38;5;124;03m    \"\"\"\u001b[39;00m\n\u001b[1;32m--> 600\u001b[0m     \u001b[38;5;28;01mreturn\u001b[39;00m reduce(tensor, pattern, reduction\u001b[38;5;241m=\u001b[39m\u001b[38;5;124m\"\u001b[39m\u001b[38;5;124mrearrange\u001b[39m\u001b[38;5;124m\"\u001b[39m, \u001b[38;5;241m*\u001b[39m\u001b[38;5;241m*\u001b[39maxes_lengths)\n",
      "File \u001b[1;32mf:\\venv_folder\\einops\\lib\\site-packages\\einops\\einops.py:542\u001b[0m, in \u001b[0;36mreduce\u001b[1;34m(tensor, pattern, reduction, **axes_lengths)\u001b[0m\n\u001b[0;32m    540\u001b[0m     message \u001b[38;5;241m+\u001b[39m\u001b[38;5;241m=\u001b[39m \u001b[38;5;124m\"\u001b[39m\u001b[38;5;130;01m\\n\u001b[39;00m\u001b[38;5;124m Input is list. \u001b[39m\u001b[38;5;124m\"\u001b[39m\n\u001b[0;32m    541\u001b[0m message \u001b[38;5;241m+\u001b[39m\u001b[38;5;241m=\u001b[39m \u001b[38;5;124m\"\u001b[39m\u001b[38;5;124mAdditional info: \u001b[39m\u001b[38;5;132;01m{}\u001b[39;00m\u001b[38;5;124m.\u001b[39m\u001b[38;5;124m\"\u001b[39m\u001b[38;5;241m.\u001b[39mformat(axes_lengths)\n\u001b[1;32m--> 542\u001b[0m \u001b[38;5;28;01mraise\u001b[39;00m EinopsError(message \u001b[38;5;241m+\u001b[39m \u001b[38;5;124m\"\u001b[39m\u001b[38;5;130;01m\\n\u001b[39;00m\u001b[38;5;124m \u001b[39m\u001b[38;5;132;01m{}\u001b[39;00m\u001b[38;5;124m\"\u001b[39m\u001b[38;5;241m.\u001b[39mformat(e))\n",
      "\u001b[1;31mEinopsError\u001b[0m:  Error while processing rearrange-reduction pattern \"a b -> a c\".\n Input tensor shape: (2, 3). Additional info: {'c': 3}.\n Identifiers only on one side of expression (should be on both): {'c', 'b'}"
     ]
    }
   ],
   "source": [
    "rearrange(np.zeros((2,3)), 'a b -> a c', c=3)"
   ]
  },
  {
   "cell_type": "code",
   "execution_count": 5,
   "id": "cf0246de",
   "metadata": {},
   "outputs": [
    {
     "ename": "EinopsError",
     "evalue": " Error while processing rearrange-reduction pattern \"a 1 c -> a b c\".\n Input tensor shape: (3, 1, 5). Additional info: {'b': 4}.\n Identifiers only on one side of expression (should be on both): {'b'}",
     "output_type": "error",
     "traceback": [
      "\u001b[1;31m---------------------------------------------------------------------------\u001b[0m",
      "\u001b[1;31mEinopsError\u001b[0m                               Traceback (most recent call last)",
      "File \u001b[1;32mf:\\venv_folder\\einops\\lib\\site-packages\\einops\\einops.py:531\u001b[0m, in \u001b[0;36mreduce\u001b[1;34m(tensor, pattern, reduction, **axes_lengths)\u001b[0m\n\u001b[0;32m    530\u001b[0m shape \u001b[38;5;241m=\u001b[39m backend\u001b[38;5;241m.\u001b[39mshape(tensor)\n\u001b[1;32m--> 531\u001b[0m recipe \u001b[38;5;241m=\u001b[39m \u001b[43m_prepare_transformation_recipe\u001b[49m\u001b[43m(\u001b[49m\u001b[43mpattern\u001b[49m\u001b[43m,\u001b[49m\u001b[43m \u001b[49m\u001b[43mreduction\u001b[49m\u001b[43m,\u001b[49m\u001b[43m \u001b[49m\u001b[43maxes_names\u001b[49m\u001b[38;5;241;43m=\u001b[39;49m\u001b[38;5;28;43mtuple\u001b[39;49m\u001b[43m(\u001b[49m\u001b[43maxes_lengths\u001b[49m\u001b[43m)\u001b[49m\u001b[43m,\u001b[49m\u001b[43m \u001b[49m\u001b[43mndim\u001b[49m\u001b[38;5;241;43m=\u001b[39;49m\u001b[38;5;28;43mlen\u001b[39;49m\u001b[43m(\u001b[49m\u001b[43mshape\u001b[49m\u001b[43m)\u001b[49m\u001b[43m)\u001b[49m\n\u001b[0;32m    532\u001b[0m \u001b[38;5;28;01mreturn\u001b[39;00m _apply_recipe(\n\u001b[0;32m    533\u001b[0m     backend, recipe, cast(Tensor, tensor), reduction_type\u001b[38;5;241m=\u001b[39mreduction, axes_lengths\u001b[38;5;241m=\u001b[39mhashable_axes_lengths\n\u001b[0;32m    534\u001b[0m )\n",
      "File \u001b[1;32mf:\\venv_folder\\einops\\lib\\site-packages\\einops\\einops.py:313\u001b[0m, in \u001b[0;36m_prepare_transformation_recipe\u001b[1;34m(pattern, operation, axes_names, ndim)\u001b[0m\n\u001b[0;32m    312\u001b[0m     \u001b[38;5;28;01mif\u001b[39;00m \u001b[38;5;28mlen\u001b[39m(difference) \u001b[38;5;241m>\u001b[39m \u001b[38;5;241m0\u001b[39m:\n\u001b[1;32m--> 313\u001b[0m         \u001b[38;5;28;01mraise\u001b[39;00m EinopsError(\u001b[38;5;124m\"\u001b[39m\u001b[38;5;124mIdentifiers only on one side of expression (should be on both): \u001b[39m\u001b[38;5;132;01m{}\u001b[39;00m\u001b[38;5;124m\"\u001b[39m\u001b[38;5;241m.\u001b[39mformat(difference))\n\u001b[0;32m    314\u001b[0m \u001b[38;5;28;01melif\u001b[39;00m operation \u001b[38;5;241m==\u001b[39m \u001b[38;5;124m\"\u001b[39m\u001b[38;5;124mrepeat\u001b[39m\u001b[38;5;124m\"\u001b[39m:\n",
      "\u001b[1;31mEinopsError\u001b[0m: Identifiers only on one side of expression (should be on both): {'b'}",
      "\nDuring handling of the above exception, another exception occurred:\n",
      "\u001b[1;31mEinopsError\u001b[0m                               Traceback (most recent call last)",
      "Cell \u001b[1;32mIn[5], line 2\u001b[0m\n\u001b[0;32m      1\u001b[0m x \u001b[38;5;241m=\u001b[39m np\u001b[38;5;241m.\u001b[39mrandom\u001b[38;5;241m.\u001b[39mrand(\u001b[38;5;241m3\u001b[39m, \u001b[38;5;241m1\u001b[39m, \u001b[38;5;241m5\u001b[39m)\n\u001b[1;32m----> 2\u001b[0m result \u001b[38;5;241m=\u001b[39m \u001b[43mrearrange\u001b[49m\u001b[43m(\u001b[49m\u001b[43mx\u001b[49m\u001b[43m,\u001b[49m\u001b[43m \u001b[49m\u001b[38;5;124;43m'\u001b[39;49m\u001b[38;5;124;43ma 1 c -> a b c\u001b[39;49m\u001b[38;5;124;43m'\u001b[39;49m\u001b[43m,\u001b[49m\u001b[43m \u001b[49m\u001b[43mb\u001b[49m\u001b[38;5;241;43m=\u001b[39;49m\u001b[38;5;241;43m4\u001b[39;49m\u001b[43m)\u001b[49m\n",
      "File \u001b[1;32mf:\\venv_folder\\einops\\lib\\site-packages\\einops\\einops.py:600\u001b[0m, in \u001b[0;36mrearrange\u001b[1;34m(tensor, pattern, **axes_lengths)\u001b[0m\n\u001b[0;32m    545\u001b[0m \u001b[38;5;28;01mdef\u001b[39;00m\u001b[38;5;250m \u001b[39m\u001b[38;5;21mrearrange\u001b[39m(tensor: Union[Tensor, List[Tensor]], pattern: \u001b[38;5;28mstr\u001b[39m, \u001b[38;5;241m*\u001b[39m\u001b[38;5;241m*\u001b[39maxes_lengths: Size) \u001b[38;5;241m-\u001b[39m\u001b[38;5;241m>\u001b[39m Tensor:\n\u001b[0;32m    546\u001b[0m \u001b[38;5;250m    \u001b[39m\u001b[38;5;124;03m\"\"\"\u001b[39;00m\n\u001b[0;32m    547\u001b[0m \u001b[38;5;124;03m    einops.rearrange is a reader-friendly smart element reordering for multidimensional tensors.\u001b[39;00m\n\u001b[0;32m    548\u001b[0m \u001b[38;5;124;03m    This operation includes functionality of transpose (axes permutation), reshape (view), squeeze, unsqueeze,\u001b[39;00m\n\u001b[1;32m   (...)\u001b[0m\n\u001b[0;32m    598\u001b[0m \n\u001b[0;32m    599\u001b[0m \u001b[38;5;124;03m    \"\"\"\u001b[39;00m\n\u001b[1;32m--> 600\u001b[0m     \u001b[38;5;28;01mreturn\u001b[39;00m reduce(tensor, pattern, reduction\u001b[38;5;241m=\u001b[39m\u001b[38;5;124m\"\u001b[39m\u001b[38;5;124mrearrange\u001b[39m\u001b[38;5;124m\"\u001b[39m, \u001b[38;5;241m*\u001b[39m\u001b[38;5;241m*\u001b[39maxes_lengths)\n",
      "File \u001b[1;32mf:\\venv_folder\\einops\\lib\\site-packages\\einops\\einops.py:542\u001b[0m, in \u001b[0;36mreduce\u001b[1;34m(tensor, pattern, reduction, **axes_lengths)\u001b[0m\n\u001b[0;32m    540\u001b[0m     message \u001b[38;5;241m+\u001b[39m\u001b[38;5;241m=\u001b[39m \u001b[38;5;124m\"\u001b[39m\u001b[38;5;130;01m\\n\u001b[39;00m\u001b[38;5;124m Input is list. \u001b[39m\u001b[38;5;124m\"\u001b[39m\n\u001b[0;32m    541\u001b[0m message \u001b[38;5;241m+\u001b[39m\u001b[38;5;241m=\u001b[39m \u001b[38;5;124m\"\u001b[39m\u001b[38;5;124mAdditional info: \u001b[39m\u001b[38;5;132;01m{}\u001b[39;00m\u001b[38;5;124m.\u001b[39m\u001b[38;5;124m\"\u001b[39m\u001b[38;5;241m.\u001b[39mformat(axes_lengths)\n\u001b[1;32m--> 542\u001b[0m \u001b[38;5;28;01mraise\u001b[39;00m EinopsError(message \u001b[38;5;241m+\u001b[39m \u001b[38;5;124m\"\u001b[39m\u001b[38;5;130;01m\\n\u001b[39;00m\u001b[38;5;124m \u001b[39m\u001b[38;5;132;01m{}\u001b[39;00m\u001b[38;5;124m\"\u001b[39m\u001b[38;5;241m.\u001b[39mformat(e))\n",
      "\u001b[1;31mEinopsError\u001b[0m:  Error while processing rearrange-reduction pattern \"a 1 c -> a b c\".\n Input tensor shape: (3, 1, 5). Additional info: {'b': 4}.\n Identifiers only on one side of expression (should be on both): {'b'}"
     ]
    }
   ],
   "source": [
    "x = np.random.rand(3, 1, 5)\n",
    "result = rearrange(x, 'a 1 c -> a b c', b=4)"
   ]
  },
  {
   "cell_type": "code",
   "execution_count": 6,
   "id": "a5082782",
   "metadata": {},
   "outputs": [
    {
     "ename": "EinopsError",
     "evalue": " Error while processing rearrange-reduction pattern \"a b -> a rpt b\".\n Input tensor shape: (2, 2). Additional info: {'rpt': 2}.\n Identifiers only on one side of expression (should be on both): {'rpt'}",
     "output_type": "error",
     "traceback": [
      "\u001b[1;31m---------------------------------------------------------------------------\u001b[0m",
      "\u001b[1;31mEinopsError\u001b[0m                               Traceback (most recent call last)",
      "File \u001b[1;32mf:\\venv_folder\\einops\\lib\\site-packages\\einops\\einops.py:531\u001b[0m, in \u001b[0;36mreduce\u001b[1;34m(tensor, pattern, reduction, **axes_lengths)\u001b[0m\n\u001b[0;32m    530\u001b[0m shape \u001b[38;5;241m=\u001b[39m backend\u001b[38;5;241m.\u001b[39mshape(tensor)\n\u001b[1;32m--> 531\u001b[0m recipe \u001b[38;5;241m=\u001b[39m \u001b[43m_prepare_transformation_recipe\u001b[49m\u001b[43m(\u001b[49m\u001b[43mpattern\u001b[49m\u001b[43m,\u001b[49m\u001b[43m \u001b[49m\u001b[43mreduction\u001b[49m\u001b[43m,\u001b[49m\u001b[43m \u001b[49m\u001b[43maxes_names\u001b[49m\u001b[38;5;241;43m=\u001b[39;49m\u001b[38;5;28;43mtuple\u001b[39;49m\u001b[43m(\u001b[49m\u001b[43maxes_lengths\u001b[49m\u001b[43m)\u001b[49m\u001b[43m,\u001b[49m\u001b[43m \u001b[49m\u001b[43mndim\u001b[49m\u001b[38;5;241;43m=\u001b[39;49m\u001b[38;5;28;43mlen\u001b[39;49m\u001b[43m(\u001b[49m\u001b[43mshape\u001b[49m\u001b[43m)\u001b[49m\u001b[43m)\u001b[49m\n\u001b[0;32m    532\u001b[0m \u001b[38;5;28;01mreturn\u001b[39;00m _apply_recipe(\n\u001b[0;32m    533\u001b[0m     backend, recipe, cast(Tensor, tensor), reduction_type\u001b[38;5;241m=\u001b[39mreduction, axes_lengths\u001b[38;5;241m=\u001b[39mhashable_axes_lengths\n\u001b[0;32m    534\u001b[0m )\n",
      "File \u001b[1;32mf:\\venv_folder\\einops\\lib\\site-packages\\einops\\einops.py:313\u001b[0m, in \u001b[0;36m_prepare_transformation_recipe\u001b[1;34m(pattern, operation, axes_names, ndim)\u001b[0m\n\u001b[0;32m    312\u001b[0m     \u001b[38;5;28;01mif\u001b[39;00m \u001b[38;5;28mlen\u001b[39m(difference) \u001b[38;5;241m>\u001b[39m \u001b[38;5;241m0\u001b[39m:\n\u001b[1;32m--> 313\u001b[0m         \u001b[38;5;28;01mraise\u001b[39;00m EinopsError(\u001b[38;5;124m\"\u001b[39m\u001b[38;5;124mIdentifiers only on one side of expression (should be on both): \u001b[39m\u001b[38;5;132;01m{}\u001b[39;00m\u001b[38;5;124m\"\u001b[39m\u001b[38;5;241m.\u001b[39mformat(difference))\n\u001b[0;32m    314\u001b[0m \u001b[38;5;28;01melif\u001b[39;00m operation \u001b[38;5;241m==\u001b[39m \u001b[38;5;124m\"\u001b[39m\u001b[38;5;124mrepeat\u001b[39m\u001b[38;5;124m\"\u001b[39m:\n",
      "\u001b[1;31mEinopsError\u001b[0m: Identifiers only on one side of expression (should be on both): {'rpt'}",
      "\nDuring handling of the above exception, another exception occurred:\n",
      "\u001b[1;31mEinopsError\u001b[0m                               Traceback (most recent call last)",
      "Cell \u001b[1;32mIn[6], line 2\u001b[0m\n\u001b[0;32m      1\u001b[0m tensor \u001b[38;5;241m=\u001b[39m np\u001b[38;5;241m.\u001b[39marray([[\u001b[38;5;241m1\u001b[39m, \u001b[38;5;241m2\u001b[39m], [\u001b[38;5;241m3\u001b[39m, \u001b[38;5;241m4\u001b[39m]])\n\u001b[1;32m----> 2\u001b[0m result \u001b[38;5;241m=\u001b[39m \u001b[43mrearrange\u001b[49m\u001b[43m(\u001b[49m\u001b[43mtensor\u001b[49m\u001b[43m,\u001b[49m\u001b[43m \u001b[49m\u001b[38;5;124;43m'\u001b[39;49m\u001b[38;5;124;43ma b -> a rpt b\u001b[39;49m\u001b[38;5;124;43m'\u001b[39;49m\u001b[43m,\u001b[49m\u001b[43m \u001b[49m\u001b[43mrpt\u001b[49m\u001b[38;5;241;43m=\u001b[39;49m\u001b[38;5;241;43m2\u001b[39;49m\u001b[43m)\u001b[49m\n",
      "File \u001b[1;32mf:\\venv_folder\\einops\\lib\\site-packages\\einops\\einops.py:600\u001b[0m, in \u001b[0;36mrearrange\u001b[1;34m(tensor, pattern, **axes_lengths)\u001b[0m\n\u001b[0;32m    545\u001b[0m \u001b[38;5;28;01mdef\u001b[39;00m\u001b[38;5;250m \u001b[39m\u001b[38;5;21mrearrange\u001b[39m(tensor: Union[Tensor, List[Tensor]], pattern: \u001b[38;5;28mstr\u001b[39m, \u001b[38;5;241m*\u001b[39m\u001b[38;5;241m*\u001b[39maxes_lengths: Size) \u001b[38;5;241m-\u001b[39m\u001b[38;5;241m>\u001b[39m Tensor:\n\u001b[0;32m    546\u001b[0m \u001b[38;5;250m    \u001b[39m\u001b[38;5;124;03m\"\"\"\u001b[39;00m\n\u001b[0;32m    547\u001b[0m \u001b[38;5;124;03m    einops.rearrange is a reader-friendly smart element reordering for multidimensional tensors.\u001b[39;00m\n\u001b[0;32m    548\u001b[0m \u001b[38;5;124;03m    This operation includes functionality of transpose (axes permutation), reshape (view), squeeze, unsqueeze,\u001b[39;00m\n\u001b[1;32m   (...)\u001b[0m\n\u001b[0;32m    598\u001b[0m \n\u001b[0;32m    599\u001b[0m \u001b[38;5;124;03m    \"\"\"\u001b[39;00m\n\u001b[1;32m--> 600\u001b[0m     \u001b[38;5;28;01mreturn\u001b[39;00m reduce(tensor, pattern, reduction\u001b[38;5;241m=\u001b[39m\u001b[38;5;124m\"\u001b[39m\u001b[38;5;124mrearrange\u001b[39m\u001b[38;5;124m\"\u001b[39m, \u001b[38;5;241m*\u001b[39m\u001b[38;5;241m*\u001b[39maxes_lengths)\n",
      "File \u001b[1;32mf:\\venv_folder\\einops\\lib\\site-packages\\einops\\einops.py:542\u001b[0m, in \u001b[0;36mreduce\u001b[1;34m(tensor, pattern, reduction, **axes_lengths)\u001b[0m\n\u001b[0;32m    540\u001b[0m     message \u001b[38;5;241m+\u001b[39m\u001b[38;5;241m=\u001b[39m \u001b[38;5;124m\"\u001b[39m\u001b[38;5;130;01m\\n\u001b[39;00m\u001b[38;5;124m Input is list. \u001b[39m\u001b[38;5;124m\"\u001b[39m\n\u001b[0;32m    541\u001b[0m message \u001b[38;5;241m+\u001b[39m\u001b[38;5;241m=\u001b[39m \u001b[38;5;124m\"\u001b[39m\u001b[38;5;124mAdditional info: \u001b[39m\u001b[38;5;132;01m{}\u001b[39;00m\u001b[38;5;124m.\u001b[39m\u001b[38;5;124m\"\u001b[39m\u001b[38;5;241m.\u001b[39mformat(axes_lengths)\n\u001b[1;32m--> 542\u001b[0m \u001b[38;5;28;01mraise\u001b[39;00m EinopsError(message \u001b[38;5;241m+\u001b[39m \u001b[38;5;124m\"\u001b[39m\u001b[38;5;130;01m\\n\u001b[39;00m\u001b[38;5;124m \u001b[39m\u001b[38;5;132;01m{}\u001b[39;00m\u001b[38;5;124m\"\u001b[39m\u001b[38;5;241m.\u001b[39mformat(e))\n",
      "\u001b[1;31mEinopsError\u001b[0m:  Error while processing rearrange-reduction pattern \"a b -> a rpt b\".\n Input tensor shape: (2, 2). Additional info: {'rpt': 2}.\n Identifiers only on one side of expression (should be on both): {'rpt'}"
     ]
    }
   ],
   "source": [
    "tensor = np.array([[1, 2], [3, 4]])\n",
    "result = rearrange(tensor, 'a b -> a rpt b', rpt=2)"
   ]
  },
  {
   "cell_type": "code",
   "execution_count": null,
   "id": "d09e2f00",
   "metadata": {},
   "outputs": [],
   "source": []
  }
 ],
 "metadata": {
  "kernelspec": {
   "display_name": "einops",
   "language": "python",
   "name": "python3"
  },
  "language_info": {
   "codemirror_mode": {
    "name": "ipython",
    "version": 3
   },
   "file_extension": ".py",
   "mimetype": "text/x-python",
   "name": "python",
   "nbconvert_exporter": "python",
   "pygments_lexer": "ipython3",
   "version": "3.10.11"
  }
 },
 "nbformat": 4,
 "nbformat_minor": 5
}
